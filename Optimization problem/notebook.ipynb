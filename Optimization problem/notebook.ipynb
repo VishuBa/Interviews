{
 "cells": [
  {
   "cell_type": "code",
   "execution_count": 1,
   "metadata": {},
   "outputs": [],
   "source": [
    "import pandas as pd\n",
    "pd.options.mode.chained_assignment = None  # default='warn'\n",
    "import geopy.distance\n"
   ]
  },
  {
   "cell_type": "code",
   "execution_count": 2,
   "metadata": {},
   "outputs": [],
   "source": [
    "df1 = pd.read_excel('bike_pickup_location_v1.xlsx')\n",
    "df2 = pd.read_excel('/Users/vishu/Documents/playground/Bounce_product_analyst/bike_drop_location_v1 .xlsx')\n"
   ]
  },
  {
   "cell_type": "code",
   "execution_count": 3,
   "metadata": {},
   "outputs": [],
   "source": [
    "df1['drop location'] = ''\n",
    "df2 = df2[['Priority', 'drop hex', 'drop hex  lat', 'drop hex lon','avg_daily_sessions/supply']].dropna().reset_index()\n",
    "df2 = df2[['Priority', 'drop hex', 'drop hex  lat', 'drop hex lon','avg_daily_sessions/supply']]"
   ]
  },
  {
   "cell_type": "code",
   "execution_count": 29,
   "metadata": {},
   "outputs": [
    {
     "data": {
      "text/html": [
       "<div>\n",
       "<style scoped>\n",
       "    .dataframe tbody tr th:only-of-type {\n",
       "        vertical-align: middle;\n",
       "    }\n",
       "\n",
       "    .dataframe tbody tr th {\n",
       "        vertical-align: top;\n",
       "    }\n",
       "\n",
       "    .dataframe thead th {\n",
       "        text-align: right;\n",
       "    }\n",
       "</style>\n",
       "<table border=\"1\" class=\"dataframe\">\n",
       "  <thead>\n",
       "    <tr style=\"text-align: right;\">\n",
       "      <th></th>\n",
       "      <th>Priority</th>\n",
       "      <th>drop hex</th>\n",
       "      <th>drop hex  lat</th>\n",
       "      <th>drop hex lon</th>\n",
       "      <th>avg_daily_sessions/supply</th>\n",
       "      <th>min vehicles</th>\n",
       "      <th>max vehicles</th>\n",
       "      <th>vehicles</th>\n",
       "    </tr>\n",
       "  </thead>\n",
       "  <tbody>\n",
       "    <tr>\n",
       "      <th>0</th>\n",
       "      <td>1.0</td>\n",
       "      <td>8960144b4dbffff</td>\n",
       "      <td>13.084574</td>\n",
       "      <td>77.485690</td>\n",
       "      <td>122.071429</td>\n",
       "      <td>6</td>\n",
       "      <td>8</td>\n",
       "      <td>7</td>\n",
       "    </tr>\n",
       "    <tr>\n",
       "      <th>1</th>\n",
       "      <td>2.0</td>\n",
       "      <td>8960144b4c3ffff</td>\n",
       "      <td>13.083513</td>\n",
       "      <td>77.482666</td>\n",
       "      <td>112.857143</td>\n",
       "      <td>2</td>\n",
       "      <td>4</td>\n",
       "      <td>0</td>\n",
       "    </tr>\n",
       "    <tr>\n",
       "      <th>2</th>\n",
       "      <td>3.0</td>\n",
       "      <td>89601696927ffff</td>\n",
       "      <td>13.089918</td>\n",
       "      <td>77.483974</td>\n",
       "      <td>110.500000</td>\n",
       "      <td>2</td>\n",
       "      <td>4</td>\n",
       "      <td>0</td>\n",
       "    </tr>\n",
       "    <tr>\n",
       "      <th>3</th>\n",
       "      <td>4.0</td>\n",
       "      <td>8960145b547ffff</td>\n",
       "      <td>12.977496</td>\n",
       "      <td>77.570524</td>\n",
       "      <td>90.571429</td>\n",
       "      <td>2</td>\n",
       "      <td>3</td>\n",
       "      <td>3</td>\n",
       "    </tr>\n",
       "    <tr>\n",
       "      <th>4</th>\n",
       "      <td>5.0</td>\n",
       "      <td>896016965cbffff</td>\n",
       "      <td>13.078991</td>\n",
       "      <td>77.580048</td>\n",
       "      <td>85.571429</td>\n",
       "      <td>2</td>\n",
       "      <td>3</td>\n",
       "      <td>3</td>\n",
       "    </tr>\n",
       "  </tbody>\n",
       "</table>\n",
       "</div>"
      ],
      "text/plain": [
       "   Priority         drop hex  drop hex  lat  drop hex lon  \\\n",
       "0       1.0  8960144b4dbffff      13.084574     77.485690   \n",
       "1       2.0  8960144b4c3ffff      13.083513     77.482666   \n",
       "2       3.0  89601696927ffff      13.089918     77.483974   \n",
       "3       4.0  8960145b547ffff      12.977496     77.570524   \n",
       "4       5.0  896016965cbffff      13.078991     77.580048   \n",
       "\n",
       "   avg_daily_sessions/supply  min vehicles  max vehicles  vehicles  \n",
       "0                 122.071429             6             8         7  \n",
       "1                 112.857143             2             4         0  \n",
       "2                 110.500000             2             4         0  \n",
       "3                  90.571429             2             3         3  \n",
       "4                  85.571429             2             3         3  "
      ]
     },
     "execution_count": 29,
     "metadata": {},
     "output_type": "execute_result"
    }
   ],
   "source": [
    "df2.head()"
   ]
  },
  {
   "cell_type": "code",
   "execution_count": 6,
   "metadata": {},
   "outputs": [],
   "source": [
    "def constraint_1(num):\n",
    "    if num>= 120:\n",
    "        return(6,8)\n",
    "    elif num>=100 and num<120:\n",
    "        return(2,4)\n",
    "    elif num>=50 and num<100:\n",
    "        return(2,3)\n",
    "    elif num>=30 and num<50:\n",
    "        return(1,2)\n",
    "    elif num>=20 and num<30:\n",
    "        return(1,1)\n",
    "    elif num>=10 and num<20:\n",
    "        return(0,1)\n",
    "    else:\n",
    "        return(0,0)"
   ]
  },
  {
   "cell_type": "code",
   "execution_count": 7,
   "metadata": {},
   "outputs": [],
   "source": [
    "df2['min vehicles'] = df2['avg_daily_sessions/supply'].apply(lambda x: int(constraint_1(x)[0]))\n",
    "df2['max vehicles'] = df2['avg_daily_sessions/supply'].apply(lambda x: int(constraint_1(x)[1]))\n",
    "df2['vehicles'] = 0\n",
    "df1['distance'] = 0\n",
    "df1['drop index'] = ''\n",
    "skipped_ind = []\n",
    "ind_array = []"
   ]
  },
  {
   "cell_type": "code",
   "execution_count": 8,
   "metadata": {},
   "outputs": [],
   "source": [
    "def cal_dist(coords_1, coords_2):\n",
    "    return geopy.distance.distance(coords_1, coords_2).km\n"
   ]
  },
  {
   "cell_type": "code",
   "execution_count": 9,
   "metadata": {},
   "outputs": [],
   "source": [
    "\n",
    "def get_min_ind(dist_array):\n",
    "    ind = dist_array.index(next(x for x in dist_array if x < 4))\n",
    "    if df2['vehicles'][ind] < df2['max vehicles'][ind]:\n",
    "        ind_array.append(ind)\n",
    "        return ind\n",
    "    dist_array[ind] = 100\n",
    "    return get_min_ind(dist_array)"
   ]
  },
  {
   "cell_type": "code",
   "execution_count": 10,
   "metadata": {},
   "outputs": [],
   "source": [
    "for k in range(0, len(df1)):\n",
    "    if k in skipped_ind:\n",
    "        continue\n",
    "    coords_1 = (df1['lat'][k], df1['lon'][k])\n",
    "    dist_array = []\n",
    "    for i in range(0, len(df2)):\n",
    "        coords_2 = (df2['drop hex  lat'][i], df2['drop hex lon'][i])\n",
    "        dist = cal_dist(coords_1, coords_2)\n",
    "        dist_array.append(dist)\n",
    "    try:\n",
    "        ind = get_min_ind(dist_array)\n",
    "    except StopIteration:\n",
    "        skipped_ind.append(k)\n",
    "        continue\n",
    "    \n",
    "    df1['drop location'][k] = df2['drop hex'][ind]\n",
    "    df1['distance'][k] = dist_array[ind]\n",
    "    df1['drop index'][k] = ind\n",
    "    df2['vehicles'][ind] = df2['vehicles'][ind] + 1\n",
    "\n"
   ]
  },
  {
   "cell_type": "code",
   "execution_count": 40,
   "metadata": {},
   "outputs": [
    {
     "name": "stdout",
     "output_type": "stream",
     "text": [
      "total vehicles that were sent to drop location : 322\n"
     ]
    }
   ],
   "source": [
    "classified_vehicles = df2['vehicles'].sum()\n",
    "print('total vehicles that were sent to drop location :', classified_vehicles)"
   ]
  },
  {
   "cell_type": "code",
   "execution_count": 41,
   "metadata": {},
   "outputs": [
    {
     "name": "stdout",
     "output_type": "stream",
     "text": [
      "average distance  2.965377416731192\n"
     ]
    }
   ],
   "source": [
    "dist = pd.to_numeric(df1['distance']).sum()\n",
    "avg_dist = dist/classified_vehicles\n",
    "print('average distance ', avg_dist)"
   ]
  }
 ],
 "metadata": {
  "interpreter": {
   "hash": "292c44816d04d42f2ecb0d00c3f510496d676fbc0f7e2b9e1760b8717f6a0e42"
  },
  "kernelspec": {
   "display_name": "Python 3.9.7 ('base')",
   "language": "python",
   "name": "python3"
  },
  "language_info": {
   "codemirror_mode": {
    "name": "ipython",
    "version": 3
   },
   "file_extension": ".py",
   "mimetype": "text/x-python",
   "name": "python",
   "nbconvert_exporter": "python",
   "pygments_lexer": "ipython3",
   "version": "3.9.7"
  },
  "orig_nbformat": 4
 },
 "nbformat": 4,
 "nbformat_minor": 2
}
