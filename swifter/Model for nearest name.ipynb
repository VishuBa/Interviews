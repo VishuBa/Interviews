{
 "cells": [
  {
   "cell_type": "code",
   "execution_count": 90,
   "metadata": {},
   "outputs": [
    {
     "name": "stdout",
     "output_type": "stream",
     "text": [
      "Collecting fuzzywuzzy\n",
      "  Downloading fuzzywuzzy-0.18.0-py2.py3-none-any.whl (18 kB)\n",
      "Installing collected packages: fuzzywuzzy\n",
      "Successfully installed fuzzywuzzy-0.18.0\n",
      "Collecting python-Levenshtein\n",
      "  Downloading python-Levenshtein-0.12.2.tar.gz (50 kB)\n",
      "Requirement already satisfied: setuptools in c:\\users\\dell\\anaconda3\\lib\\site-packages (from python-Levenshtein) (50.3.1.post20201107)\n",
      "Building wheels for collected packages: python-Levenshtein\n",
      "  Building wheel for python-Levenshtein (setup.py): started\n",
      "  Building wheel for python-Levenshtein (setup.py): finished with status 'error'\n",
      "  Running setup.py clean for python-Levenshtein\n",
      "Failed to build python-Levenshtein\n",
      "Installing collected packages: python-Levenshtein\n",
      "    Running setup.py install for python-Levenshtein: started\n",
      "    Running setup.py install for python-Levenshtein: finished with status 'error'\n"
     ]
    },
    {
     "name": "stderr",
     "output_type": "stream",
     "text": [
      "  ERROR: Command errored out with exit status 1:\n",
      "   command: 'C:\\Users\\Dell\\anaconda3\\python.exe' -u -c 'import sys, setuptools, tokenize; sys.argv[0] = '\"'\"'C:\\\\Users\\\\Dell\\\\AppData\\\\Local\\\\Temp\\\\pip-install-c_1k6wb9\\\\python-levenshtein\\\\setup.py'\"'\"'; __file__='\"'\"'C:\\\\Users\\\\Dell\\\\AppData\\\\Local\\\\Temp\\\\pip-install-c_1k6wb9\\\\python-levenshtein\\\\setup.py'\"'\"';f=getattr(tokenize, '\"'\"'open'\"'\"', open)(__file__);code=f.read().replace('\"'\"'\\r\\n'\"'\"', '\"'\"'\\n'\"'\"');f.close();exec(compile(code, __file__, '\"'\"'exec'\"'\"'))' bdist_wheel -d 'C:\\Users\\Dell\\AppData\\Local\\Temp\\pip-wheel-4xwln3rk'\n",
      "       cwd: C:\\Users\\Dell\\AppData\\Local\\Temp\\pip-install-c_1k6wb9\\python-levenshtein\\\n",
      "  Complete output (27 lines):\n",
      "  running bdist_wheel\n",
      "  running build\n",
      "  running build_py\n",
      "  creating build\n",
      "  creating build\\lib.win-amd64-3.8\n",
      "  creating build\\lib.win-amd64-3.8\\Levenshtein\n",
      "  copying Levenshtein\\StringMatcher.py -> build\\lib.win-amd64-3.8\\Levenshtein\n",
      "  copying Levenshtein\\__init__.py -> build\\lib.win-amd64-3.8\\Levenshtein\n",
      "  running egg_info\n",
      "  writing python_Levenshtein.egg-info\\PKG-INFO\n",
      "  writing dependency_links to python_Levenshtein.egg-info\\dependency_links.txt\n",
      "  writing entry points to python_Levenshtein.egg-info\\entry_points.txt\n",
      "  writing namespace_packages to python_Levenshtein.egg-info\\namespace_packages.txt\n",
      "  writing requirements to python_Levenshtein.egg-info\\requires.txt\n",
      "  writing top-level names to python_Levenshtein.egg-info\\top_level.txt\n",
      "  reading manifest file 'python_Levenshtein.egg-info\\SOURCES.txt'\n",
      "  reading manifest template 'MANIFEST.in'\n",
      "  warning: no previously-included files matching '*pyc' found anywhere in distribution\n",
      "  warning: no previously-included files matching '*so' found anywhere in distribution\n",
      "  warning: no previously-included files matching '.project' found anywhere in distribution\n",
      "  warning: no previously-included files matching '.pydevproject' found anywhere in distribution\n",
      "  writing manifest file 'python_Levenshtein.egg-info\\SOURCES.txt'\n",
      "  copying Levenshtein\\_levenshtein.c -> build\\lib.win-amd64-3.8\\Levenshtein\n",
      "  copying Levenshtein\\_levenshtein.h -> build\\lib.win-amd64-3.8\\Levenshtein\n",
      "  running build_ext\n",
      "  building 'Levenshtein._levenshtein' extension\n",
      "  error: Microsoft Visual C++ 14.0 or greater is required. Get it with \"Microsoft C++ Build Tools\": https://visualstudio.microsoft.com/visual-cpp-build-tools/\n",
      "  ----------------------------------------\n",
      "  ERROR: Failed building wheel for python-Levenshtein\n",
      "    ERROR: Command errored out with exit status 1:\n",
      "     command: 'C:\\Users\\Dell\\anaconda3\\python.exe' -u -c 'import sys, setuptools, tokenize; sys.argv[0] = '\"'\"'C:\\\\Users\\\\Dell\\\\AppData\\\\Local\\\\Temp\\\\pip-install-c_1k6wb9\\\\python-levenshtein\\\\setup.py'\"'\"'; __file__='\"'\"'C:\\\\Users\\\\Dell\\\\AppData\\\\Local\\\\Temp\\\\pip-install-c_1k6wb9\\\\python-levenshtein\\\\setup.py'\"'\"';f=getattr(tokenize, '\"'\"'open'\"'\"', open)(__file__);code=f.read().replace('\"'\"'\\r\\n'\"'\"', '\"'\"'\\n'\"'\"');f.close();exec(compile(code, __file__, '\"'\"'exec'\"'\"'))' install --record 'C:\\Users\\Dell\\AppData\\Local\\Temp\\pip-record-tu3ujyim\\install-record.txt' --single-version-externally-managed --compile --install-headers 'C:\\Users\\Dell\\anaconda3\\Include\\python-Levenshtein'\n",
      "         cwd: C:\\Users\\Dell\\AppData\\Local\\Temp\\pip-install-c_1k6wb9\\python-levenshtein\\\n",
      "    Complete output (27 lines):\n",
      "    running install\n",
      "    running build\n",
      "    running build_py\n",
      "    creating build\n",
      "    creating build\\lib.win-amd64-3.8\n",
      "    creating build\\lib.win-amd64-3.8\\Levenshtein\n",
      "    copying Levenshtein\\StringMatcher.py -> build\\lib.win-amd64-3.8\\Levenshtein\n",
      "    copying Levenshtein\\__init__.py -> build\\lib.win-amd64-3.8\\Levenshtein\n",
      "    running egg_info\n",
      "    writing python_Levenshtein.egg-info\\PKG-INFO\n",
      "    writing dependency_links to python_Levenshtein.egg-info\\dependency_links.txt\n",
      "    writing entry points to python_Levenshtein.egg-info\\entry_points.txt\n",
      "    writing namespace_packages to python_Levenshtein.egg-info\\namespace_packages.txt\n",
      "    writing requirements to python_Levenshtein.egg-info\\requires.txt\n",
      "    writing top-level names to python_Levenshtein.egg-info\\top_level.txt\n",
      "    reading manifest file 'python_Levenshtein.egg-info\\SOURCES.txt'\n",
      "    reading manifest template 'MANIFEST.in'\n",
      "    warning: no previously-included files matching '*pyc' found anywhere in distribution\n",
      "    warning: no previously-included files matching '*so' found anywhere in distribution\n",
      "    warning: no previously-included files matching '.project' found anywhere in distribution\n",
      "    warning: no previously-included files matching '.pydevproject' found anywhere in distribution\n",
      "    writing manifest file 'python_Levenshtein.egg-info\\SOURCES.txt'\n",
      "    copying Levenshtein\\_levenshtein.c -> build\\lib.win-amd64-3.8\\Levenshtein\n",
      "    copying Levenshtein\\_levenshtein.h -> build\\lib.win-amd64-3.8\\Levenshtein\n",
      "    running build_ext\n",
      "    building 'Levenshtein._levenshtein' extension\n",
      "    error: Microsoft Visual C++ 14.0 or greater is required. Get it with \"Microsoft C++ Build Tools\": https://visualstudio.microsoft.com/visual-cpp-build-tools/\n",
      "    ----------------------------------------\n",
      "ERROR: Command errored out with exit status 1: 'C:\\Users\\Dell\\anaconda3\\python.exe' -u -c 'import sys, setuptools, tokenize; sys.argv[0] = '\"'\"'C:\\\\Users\\\\Dell\\\\AppData\\\\Local\\\\Temp\\\\pip-install-c_1k6wb9\\\\python-levenshtein\\\\setup.py'\"'\"'; __file__='\"'\"'C:\\\\Users\\\\Dell\\\\AppData\\\\Local\\\\Temp\\\\pip-install-c_1k6wb9\\\\python-levenshtein\\\\setup.py'\"'\"';f=getattr(tokenize, '\"'\"'open'\"'\"', open)(__file__);code=f.read().replace('\"'\"'\\r\\n'\"'\"', '\"'\"'\\n'\"'\"');f.close();exec(compile(code, __file__, '\"'\"'exec'\"'\"'))' install --record 'C:\\Users\\Dell\\AppData\\Local\\Temp\\pip-record-tu3ujyim\\install-record.txt' --single-version-externally-managed --compile --install-headers 'C:\\Users\\Dell\\anaconda3\\Include\\python-Levenshtein' Check the logs for full command output.\n"
     ]
    }
   ],
   "source": [
    "!pip install fuzzywuzzy\n",
    "!pip install python-Levenshtein"
   ]
  },
  {
   "cell_type": "code",
   "execution_count": 91,
   "metadata": {},
   "outputs": [
    {
     "name": "stderr",
     "output_type": "stream",
     "text": [
      "C:\\Users\\Dell\\anaconda3\\lib\\site-packages\\fuzzywuzzy\\fuzz.py:11: UserWarning: Using slow pure-python SequenceMatcher. Install python-Levenshtein to remove this warning\n",
      "  warnings.warn('Using slow pure-python SequenceMatcher. Install python-Levenshtein to remove this warning')\n"
     ]
    }
   ],
   "source": [
    "\n",
    "import pandas as pd\n",
    "from fuzzywuzzy import fuzz\n",
    "from fuzzywuzzy import process\n",
    "import difflib"
   ]
  },
  {
   "cell_type": "code",
   "execution_count": 2,
   "metadata": {},
   "outputs": [],
   "source": [
    "df = pd.read_csv('terroist.csv')"
   ]
  },
  {
   "cell_type": "code",
   "execution_count": 40,
   "metadata": {},
   "outputs": [
    {
     "data": {
      "text/html": [
       "<div>\n",
       "<style scoped>\n",
       "    .dataframe tbody tr th:only-of-type {\n",
       "        vertical-align: middle;\n",
       "    }\n",
       "\n",
       "    .dataframe tbody tr th {\n",
       "        vertical-align: top;\n",
       "    }\n",
       "\n",
       "    .dataframe thead th {\n",
       "        text-align: right;\n",
       "    }\n",
       "</style>\n",
       "<table border=\"1\" class=\"dataframe\">\n",
       "  <thead>\n",
       "    <tr style=\"text-align: right;\">\n",
       "      <th></th>\n",
       "      <th>name</th>\n",
       "    </tr>\n",
       "  </thead>\n",
       "  <tbody>\n",
       "    <tr>\n",
       "      <th>0</th>\n",
       "      <td>aafia siddique brigade</td>\n",
       "    </tr>\n",
       "    <tr>\n",
       "      <th>1</th>\n",
       "      <td>abdulasattar</td>\n",
       "    </tr>\n",
       "    <tr>\n",
       "      <th>2</th>\n",
       "      <td>abdullah, abdullah ahmed</td>\n",
       "    </tr>\n",
       "    <tr>\n",
       "      <th>3</th>\n",
       "      <td>abdurehman, ahmed mohammed</td>\n",
       "    </tr>\n",
       "    <tr>\n",
       "      <th>4</th>\n",
       "      <td>abid ali khan transnational criminal organizat...</td>\n",
       "    </tr>\n",
       "    <tr>\n",
       "      <th>...</th>\n",
       "      <td>...</td>\n",
       "    </tr>\n",
       "    <tr>\n",
       "      <th>24190</th>\n",
       "      <td>\"zheng, gordon\"</td>\n",
       "    </tr>\n",
       "    <tr>\n",
       "      <th>24191</th>\n",
       "      <td>\"zio\"</td>\n",
       "    </tr>\n",
       "    <tr>\n",
       "      <th>24192</th>\n",
       "      <td>\"zubeyr, abu\"</td>\n",
       "    </tr>\n",
       "    <tr>\n",
       "      <th>24193</th>\n",
       "      <td>\"zukipli\"</td>\n",
       "    </tr>\n",
       "    <tr>\n",
       "      <th>24194</th>\n",
       "      <td>\"zulkifli\"</td>\n",
       "    </tr>\n",
       "  </tbody>\n",
       "</table>\n",
       "<p>24195 rows × 1 columns</p>\n",
       "</div>"
      ],
      "text/plain": [
       "                                                    name\n",
       "0                                aafia siddique brigade \n",
       "1                                          abdulasattar \n",
       "2                              abdullah, abdullah ahmed \n",
       "3                            abdurehman, ahmed mohammed \n",
       "4      abid ali khan transnational criminal organizat...\n",
       "...                                                  ...\n",
       "24190                                   \"zheng, gordon\" \n",
       "24191                                             \"zio\" \n",
       "24192                                     \"zubeyr, abu\" \n",
       "24193                                         \"zukipli\" \n",
       "24194                                        \"zulkifli\" \n",
       "\n",
       "[24195 rows x 1 columns]"
      ]
     },
     "execution_count": 40,
     "metadata": {},
     "output_type": "execute_result"
    }
   ],
   "source": [
    "new_list = list_names.apply(lambda x: x.astype(str).str.lower())\n",
    "new_list"
   ]
  },
  {
   "cell_type": "code",
   "execution_count": 43,
   "metadata": {},
   "outputs": [
    {
     "data": {
      "text/plain": [
       "['\"Asadullah\" ', '\"Nasibullah\" ', 'BUR, Abdullah ']"
      ]
     },
     "execution_count": 43,
     "metadata": {},
     "output_type": "execute_result"
    }
   ],
   "source": [
    "\n"
   ]
  },
  {
   "cell_type": "code",
   "execution_count": 36,
   "metadata": {},
   "outputs": [
    {
     "data": {
      "text/html": [
       "<div>\n",
       "<style scoped>\n",
       "    .dataframe tbody tr th:only-of-type {\n",
       "        vertical-align: middle;\n",
       "    }\n",
       "\n",
       "    .dataframe tbody tr th {\n",
       "        vertical-align: top;\n",
       "    }\n",
       "\n",
       "    .dataframe thead th {\n",
       "        text-align: right;\n",
       "    }\n",
       "</style>\n",
       "<table border=\"1\" class=\"dataframe\">\n",
       "  <thead>\n",
       "    <tr style=\"text-align: right;\">\n",
       "      <th></th>\n",
       "      <th>name</th>\n",
       "    </tr>\n",
       "  </thead>\n",
       "  <tbody>\n",
       "    <tr>\n",
       "      <th>0</th>\n",
       "      <td>AAFIA SIDDIQUE BRIGADE</td>\n",
       "    </tr>\n",
       "    <tr>\n",
       "      <th>1</th>\n",
       "      <td>ABDULASATTAR</td>\n",
       "    </tr>\n",
       "    <tr>\n",
       "      <th>2</th>\n",
       "      <td>ABDULLAH, Abdullah Ahmed</td>\n",
       "    </tr>\n",
       "    <tr>\n",
       "      <th>3</th>\n",
       "      <td>ABDUREHMAN, Ahmed Mohammed</td>\n",
       "    </tr>\n",
       "    <tr>\n",
       "      <th>4</th>\n",
       "      <td>ABID ALI KHAN TRANSNATIONAL CRIMINAL ORGANIZAT...</td>\n",
       "    </tr>\n",
       "    <tr>\n",
       "      <th>...</th>\n",
       "      <td>...</td>\n",
       "    </tr>\n",
       "    <tr>\n",
       "      <th>24190</th>\n",
       "      <td>\"ZHENG, Gordon\"</td>\n",
       "    </tr>\n",
       "    <tr>\n",
       "      <th>24191</th>\n",
       "      <td>\"ZIO\"</td>\n",
       "    </tr>\n",
       "    <tr>\n",
       "      <th>24192</th>\n",
       "      <td>\"ZUBEYR, Abu\"</td>\n",
       "    </tr>\n",
       "    <tr>\n",
       "      <th>24193</th>\n",
       "      <td>\"ZUKIPLI\"</td>\n",
       "    </tr>\n",
       "    <tr>\n",
       "      <th>24194</th>\n",
       "      <td>\"ZULKIFLI\"</td>\n",
       "    </tr>\n",
       "  </tbody>\n",
       "</table>\n",
       "<p>24195 rows × 1 columns</p>\n",
       "</div>"
      ],
      "text/plain": [
       "                                                    name\n",
       "0                                AAFIA SIDDIQUE BRIGADE \n",
       "1                                          ABDULASATTAR \n",
       "2                              ABDULLAH, Abdullah Ahmed \n",
       "3                            ABDUREHMAN, Ahmed Mohammed \n",
       "4      ABID ALI KHAN TRANSNATIONAL CRIMINAL ORGANIZAT...\n",
       "...                                                  ...\n",
       "24190                                   \"ZHENG, Gordon\" \n",
       "24191                                             \"ZIO\" \n",
       "24192                                     \"ZUBEYR, Abu\" \n",
       "24193                                         \"ZUKIPLI\" \n",
       "24194                                        \"ZULKIFLI\" \n",
       "\n",
       "[24195 rows x 1 columns]"
      ]
     },
     "execution_count": 36,
     "metadata": {},
     "output_type": "execute_result"
    }
   ],
   "source": [
    "list_names"
   ]
  },
  {
   "cell_type": "markdown",
   "metadata": {},
   "source": [
    "# converting name to first name and last name"
   ]
  },
  {
   "cell_type": "code",
   "execution_count": 62,
   "metadata": {},
   "outputs": [],
   "source": [
    "def name_converter(name):\n",
    "    name = name.rstrip()\n",
    "    name = name.strip('\"')\n",
    "    name = name.lower()\n",
    "    f_l_name = name.split(',')\n",
    "    \n",
    "    first_name = ''\n",
    "    last_name = ''\n",
    "    if len(f_l_name) > 1:\n",
    "        first_name = str(f_l_name[0])\n",
    "        last_name = str(f_l_name[-1])\n",
    "    elif len(f_l_name) == 1:\n",
    "        first_name = str(f_l_name[0])\n",
    "    return first_name, last_name\n"
   ]
  },
  {
   "cell_type": "code",
   "execution_count": 63,
   "metadata": {},
   "outputs": [],
   "source": [
    "df['first_name'], df['last_name'] = zip(*df['name'].map(name_converter))"
   ]
  },
  {
   "cell_type": "code",
   "execution_count": 84,
   "metadata": {},
   "outputs": [
    {
     "data": {
      "text/html": [
       "<div>\n",
       "<style scoped>\n",
       "    .dataframe tbody tr th:only-of-type {\n",
       "        vertical-align: middle;\n",
       "    }\n",
       "\n",
       "    .dataframe tbody tr th {\n",
       "        vertical-align: top;\n",
       "    }\n",
       "\n",
       "    .dataframe thead th {\n",
       "        text-align: right;\n",
       "    }\n",
       "</style>\n",
       "<table border=\"1\" class=\"dataframe\">\n",
       "  <thead>\n",
       "    <tr style=\"text-align: right;\">\n",
       "      <th></th>\n",
       "      <th>name</th>\n",
       "      <th>alias</th>\n",
       "      <th>DOB</th>\n",
       "      <th>POB</th>\n",
       "      <th>tags</th>\n",
       "      <th>address</th>\n",
       "      <th>linked orgs</th>\n",
       "      <th>entity</th>\n",
       "      <th>first_name</th>\n",
       "      <th>last_name</th>\n",
       "      <th>name2</th>\n",
       "    </tr>\n",
       "  </thead>\n",
       "  <tbody>\n",
       "    <tr>\n",
       "      <th>0</th>\n",
       "      <td>AAFIA SIDDIQUE BRIGADE</td>\n",
       "      <td>(a.k.a. JAMAAT-E-AHRAR; a.k.a. JAMAATUL AHRAR;...</td>\n",
       "      <td>NaN</td>\n",
       "      <td>NaN</td>\n",
       "      <td>['[SDGT]']</td>\n",
       "      <td>[', Afghanistan', ' Mohmand Tribal Agency, Pak...</td>\n",
       "      <td>NaN</td>\n",
       "      <td>NaN</td>\n",
       "      <td>aafia siddique brigade</td>\n",
       "      <td></td>\n",
       "      <td>aafia siddique brigade</td>\n",
       "    </tr>\n",
       "    <tr>\n",
       "      <th>1</th>\n",
       "      <td>ABDULASATTAR</td>\n",
       "      <td>(a.k.a. BARAKZAI, Haji Abdul Sattar; a.k.a. BA...</td>\n",
       "      <td>['DOB 1964;']</td>\n",
       "      <td>['POB Mirmandaw Village, Nahr-e Saraj District...</td>\n",
       "      <td>['[SDGT]']</td>\n",
       "      <td>[', KachrayRoad, Pashtunabad, Quetta, Balochis...</td>\n",
       "      <td>(Linked To: HAJI KHAIRULLAH HAJI SATTAR MONEYE...</td>\n",
       "      <td>['(individual)']</td>\n",
       "      <td>abdulasattar</td>\n",
       "      <td></td>\n",
       "      <td>abdulasattar</td>\n",
       "    </tr>\n",
       "    <tr>\n",
       "      <th>2</th>\n",
       "      <td>ABDULLAH, Abdullah Ahmed</td>\n",
       "      <td>(a.k.a. AL-MASRI, Abu Mohamed; a.k.a. \"ABU MAR...</td>\n",
       "      <td>['DOB 1963;']</td>\n",
       "      <td>['POB Egypt;']</td>\n",
       "      <td>['[SDGT]']</td>\n",
       "      <td>[', Afghanistan', '   citizen Egypt (individua...</td>\n",
       "      <td>NaN</td>\n",
       "      <td>['(individual)']</td>\n",
       "      <td>abdullah</td>\n",
       "      <td>abdullah ahmed</td>\n",
       "      <td>abdullah abdullah ahmed</td>\n",
       "    </tr>\n",
       "    <tr>\n",
       "      <th>3</th>\n",
       "      <td>ABDUREHMAN, Ahmed Mohammed</td>\n",
       "      <td>(a.k.a. AHMED, Ahmed; a.k.a. ALI, Ahmed Mohamm...</td>\n",
       "      <td>['DOB 1965;']</td>\n",
       "      <td>['POB Egypt;']</td>\n",
       "      <td>['[SDGT]']</td>\n",
       "      <td>[', Afghanistan', '  citizen Egypt (individual...</td>\n",
       "      <td>NaN</td>\n",
       "      <td>['(individual)']</td>\n",
       "      <td>abdurehman</td>\n",
       "      <td>ahmed mohammed</td>\n",
       "      <td>abdurehman ahmed mohammed</td>\n",
       "    </tr>\n",
       "    <tr>\n",
       "      <th>4</th>\n",
       "      <td>ABID ALI KHAN TRANSNATIONAL CRIMINAL ORGANIZAT...</td>\n",
       "      <td>NaN</td>\n",
       "      <td>NaN</td>\n",
       "      <td>NaN</td>\n",
       "      <td>['[TCO]']</td>\n",
       "      <td>['', ' Afghanistan', ' UnitedArab Emirates .']</td>\n",
       "      <td>NaN</td>\n",
       "      <td>NaN</td>\n",
       "      <td>abid ali khan transnational criminal organization</td>\n",
       "      <td>pakistan</td>\n",
       "      <td>abid ali khan transnational criminal organizat...</td>\n",
       "    </tr>\n",
       "  </tbody>\n",
       "</table>\n",
       "</div>"
      ],
      "text/plain": [
       "                                                name  \\\n",
       "0                            AAFIA SIDDIQUE BRIGADE    \n",
       "1                                      ABDULASATTAR    \n",
       "2                          ABDULLAH, Abdullah Ahmed    \n",
       "3                        ABDUREHMAN, Ahmed Mohammed    \n",
       "4  ABID ALI KHAN TRANSNATIONAL CRIMINAL ORGANIZAT...   \n",
       "\n",
       "                                               alias            DOB  \\\n",
       "0  (a.k.a. JAMAAT-E-AHRAR; a.k.a. JAMAATUL AHRAR;...            NaN   \n",
       "1  (a.k.a. BARAKZAI, Haji Abdul Sattar; a.k.a. BA...  ['DOB 1964;']   \n",
       "2  (a.k.a. AL-MASRI, Abu Mohamed; a.k.a. \"ABU MAR...  ['DOB 1963;']   \n",
       "3  (a.k.a. AHMED, Ahmed; a.k.a. ALI, Ahmed Mohamm...  ['DOB 1965;']   \n",
       "4                                                NaN            NaN   \n",
       "\n",
       "                                                 POB        tags  \\\n",
       "0                                                NaN  ['[SDGT]']   \n",
       "1  ['POB Mirmandaw Village, Nahr-e Saraj District...  ['[SDGT]']   \n",
       "2                                     ['POB Egypt;']  ['[SDGT]']   \n",
       "3                                     ['POB Egypt;']  ['[SDGT]']   \n",
       "4                                                NaN   ['[TCO]']   \n",
       "\n",
       "                                             address  \\\n",
       "0  [', Afghanistan', ' Mohmand Tribal Agency, Pak...   \n",
       "1  [', KachrayRoad, Pashtunabad, Quetta, Balochis...   \n",
       "2  [', Afghanistan', '   citizen Egypt (individua...   \n",
       "3  [', Afghanistan', '  citizen Egypt (individual...   \n",
       "4     ['', ' Afghanistan', ' UnitedArab Emirates .']   \n",
       "\n",
       "                                         linked orgs            entity  \\\n",
       "0                                                NaN               NaN   \n",
       "1  (Linked To: HAJI KHAIRULLAH HAJI SATTAR MONEYE...  ['(individual)']   \n",
       "2                                                NaN  ['(individual)']   \n",
       "3                                                NaN  ['(individual)']   \n",
       "4                                                NaN               NaN   \n",
       "\n",
       "                                          first_name        last_name  \\\n",
       "0                             aafia siddique brigade                    \n",
       "1                                       abdulasattar                    \n",
       "2                                           abdullah   abdullah ahmed   \n",
       "3                                         abdurehman   ahmed mohammed   \n",
       "4  abid ali khan transnational criminal organization         pakistan   \n",
       "\n",
       "                                               name2  \n",
       "0                             aafia siddique brigade  \n",
       "1                                       abdulasattar  \n",
       "2                            abdullah abdullah ahmed  \n",
       "3                          abdurehman ahmed mohammed  \n",
       "4  abid ali khan transnational criminal organizat...  "
      ]
     },
     "execution_count": 84,
     "metadata": {},
     "output_type": "execute_result"
    }
   ],
   "source": [
    "df['name2'] = df['first_name']+ df['last_name']\n",
    "df.head(5)"
   ]
  },
  {
   "cell_type": "code",
   "execution_count": 85,
   "metadata": {},
   "outputs": [],
   "source": [
    "first_name = 'abdullah'\n",
    "last_name = 'ahmed'\n",
    "name = first_name + last_name\n",
    "\n",
    "# matches = difflib.get_close_matches(name, df.name2, n=1)\n",
    "# second = difflib.get_close_matches(last_name, df.last_name, n=1)"
   ]
  },
  {
   "cell_type": "code",
   "execution_count": 83,
   "metadata": {},
   "outputs": [],
   "source": [
    "# ind1 = df.index[df['first_name'] == fir[0]].tolist()\n",
    "# ind2 = df.index[df['last_name'] == second[0]].tolist()\n",
    "    \n",
    "# # print(ind1, ind2)\n",
    "# a_set = set(ind1)\n",
    "# b_set = set(ind2)\n",
    " \n",
    "# if (a_set & b_set):\n",
    "#     print(a_set & b_set)"
   ]
  },
  {
   "cell_type": "code",
   "execution_count": 86,
   "metadata": {},
   "outputs": [
    {
     "name": "stdout",
     "output_type": "stream",
     "text": [
      "[18367]\n"
     ]
    }
   ],
   "source": [
    "ind2 = df.index[df['name2'] == matches[0]].tolist()\n",
    "print(ind2)"
   ]
  },
  {
   "cell_type": "code",
   "execution_count": 94,
   "metadata": {},
   "outputs": [
    {
     "data": {
      "text/plain": [
       "name                                                 \"ABDULLAH\" \n",
       "alias          (a.k.a. ABDAOUI, Youssef; a.k.a. ABDAOUI, Yous...\n",
       "DOB                                          ['DOB 04 Jun1966;']\n",
       "POB                                   ['POB Kairouan, Tunisia;']\n",
       "tags                                                  ['[SDGT]']\n",
       "address        [', Piazza Giovane Italia n.2,Varese, Italy', ...\n",
       "linked orgs                                                  NaN\n",
       "entity                                          ['(individual)']\n",
       "first_name                                              abdullah\n",
       "last_name                                                       \n",
       "name2                                                   abdullah\n",
       "Name: 8566, dtype: object"
      ]
     },
     "execution_count": 94,
     "metadata": {},
     "output_type": "execute_result"
    }
   ],
   "source": [
    "df.loc[8566]"
   ]
  },
  {
   "cell_type": "code",
   "execution_count": 95,
   "metadata": {},
   "outputs": [
    {
     "name": "stdout",
     "output_type": "stream",
     "text": [
      "Best among the above list:  ('abdullah', 90, 2)\n"
     ]
    }
   ],
   "source": [
    "print (\"Best among the above list: \",process.extractOne(name, df['first_name']))"
   ]
  },
  {
   "cell_type": "code",
   "execution_count": null,
   "metadata": {},
   "outputs": [],
   "source": []
  }
 ],
 "metadata": {
  "kernelspec": {
   "display_name": "Python 3",
   "language": "python",
   "name": "python3"
  },
  "language_info": {
   "codemirror_mode": {
    "name": "ipython",
    "version": 3
   },
   "file_extension": ".py",
   "mimetype": "text/x-python",
   "name": "python",
   "nbconvert_exporter": "python",
   "pygments_lexer": "ipython3",
   "version": "3.8.5"
  }
 },
 "nbformat": 4,
 "nbformat_minor": 4
}
