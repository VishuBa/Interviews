{
 "cells": [
  {
   "cell_type": "code",
   "execution_count": 1,
   "metadata": {},
   "outputs": [],
   "source": [
    "nums=[8, 9, 2, 2, 3, 4, 5, 2, 5] \n",
    "out = [2, 3, 4, 5, 8, 9]\n",
    "out = [2, 5]"
   ]
  },
  {
   "cell_type": "code",
   "execution_count": 25,
   "metadata": {},
   "outputs": [
    {
     "name": "stdout",
     "output_type": "stream",
     "text": [
      "[8, 9, 2, 3, 4, 5]\n",
      "[2, 3, 4, 5, 8, 9]\n",
      "{2, 3, 4, 5, 8, 9}\n"
     ]
    }
   ],
   "source": [
    "Output = []\n",
    "for i in range(len(nums)):\n",
    "    if nums[i] not in Output:\n",
    "        Output.append(nums[i])\n",
    "\n",
    "print(Output)\n",
    "\n",
    "Output.sort()\n",
    "\n",
    "print(Output)\n",
    "\n",
    "print(set(nums))\n",
    "# Output.count()\n",
    "# for i in range(len(Output)):\n",
    "#     for j in range(len(Output))\n",
    "#         if Output[i] <\n",
    "#             Output.append(nums[i])"
   ]
  },
  {
   "cell_type": "code",
   "execution_count": 6,
   "metadata": {},
   "outputs": [],
   "source": [
    "ip = '216.080.904.190'\n",
    "out = '216.80.904.190'\n"
   ]
  },
  {
   "cell_type": "code",
   "execution_count": 15,
   "metadata": {},
   "outputs": [
    {
     "name": "stdout",
     "output_type": "stream",
     "text": [
      "['216', '080', '904', '190']\n",
      "216.80.904.190\n"
     ]
    }
   ],
   "source": [
    "values = ip.split('.')\n",
    "print(values)\n",
    "integer = []\n",
    "output = ''\n",
    "for value in values:\n",
    "    integer.append(int(value))\n",
    "output= '.'.join([str(i) for i in integer])\n",
    "print(output)\n",
    "# print(integer)\n",
    "# help('/'.join)"
   ]
  },
  {
   "cell_type": "code",
   "execution_count": 28,
   "metadata": {},
   "outputs": [
    {
     "name": "stdout",
     "output_type": "stream",
     "text": [
      "[2, 2, 5, 2, 5]\n"
     ]
    }
   ],
   "source": [
    "nums=[8, 9, 2, 2, 3, 4, 5, 2, 5] \n",
    "out = [i for i in nums if nums.count(i) > 1 ]\n",
    "print(out)\n",
    "help(du)"
   ]
  },
  {
   "cell_type": "code",
   "execution_count": 23,
   "metadata": {},
   "outputs": [
    {
     "ename": "TypeError",
     "evalue": "cannot convert dictionary update sequence element #0 to a sequence",
     "output_type": "error",
     "traceback": [
      "\u001b[1;31m---------------------------------------------------------------------------\u001b[0m",
      "\u001b[1;31mTypeError\u001b[0m                                 Traceback (most recent call last)",
      "\u001b[1;32m<ipython-input-23-e5fc55f580ab>\u001b[0m in \u001b[0;36m<module>\u001b[1;34m\u001b[0m\n\u001b[0;32m      3\u001b[0m \u001b[1;31m#     if nums[i] in nums.pop():\u001b[0m\u001b[1;33m\u001b[0m\u001b[1;33m\u001b[0m\u001b[1;33m\u001b[0m\u001b[0m\n\u001b[0;32m      4\u001b[0m \u001b[1;31m#         mult.append(nums[i])\u001b[0m\u001b[1;33m\u001b[0m\u001b[1;33m\u001b[0m\u001b[1;33m\u001b[0m\u001b[0m\n\u001b[1;32m----> 5\u001b[1;33m \u001b[0mdict\u001b[0m\u001b[1;33m(\u001b[0m\u001b[0mnums\u001b[0m\u001b[1;33m)\u001b[0m\u001b[1;33m\u001b[0m\u001b[1;33m\u001b[0m\u001b[0m\n\u001b[0m",
      "\u001b[1;31mTypeError\u001b[0m: cannot convert dictionary update sequence element #0 to a sequence"
     ]
    }
   ],
   "source": [
    "mult = []\n",
    "# for i in range(len(nums)):\n",
    "#     if nums[i] in nums.pop():\n",
    "#         mult.append(nums[i])\n",
    "dict(nums)"
   ]
  },
  {
   "cell_type": "code",
   "execution_count": null,
   "metadata": {},
   "outputs": [],
   "source": []
  }
 ],
 "metadata": {
  "kernelspec": {
   "display_name": "Python 3",
   "language": "python",
   "name": "python3"
  },
  "language_info": {
   "codemirror_mode": {
    "name": "ipython",
    "version": 3
   },
   "file_extension": ".py",
   "mimetype": "text/x-python",
   "name": "python",
   "nbconvert_exporter": "python",
   "pygments_lexer": "ipython3",
   "version": "3.8.5"
  }
 },
 "nbformat": 4,
 "nbformat_minor": 4
}
