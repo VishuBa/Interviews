{
 "cells": [
  {
   "cell_type": "code",
   "execution_count": 1,
   "metadata": {},
   "outputs": [],
   "source": [
    "#run this only once and save the document \n",
    "# import urllib.request\n",
    "\n",
    "# urllib.request.urlretrieve(\"https://www.treasury.gov/ofac/downloads/ctrylst.txt\", \"doc.txt\")"
   ]
  },
  {
   "cell_type": "code",
   "execution_count": 1,
   "metadata": {},
   "outputs": [],
   "source": [
    "import pandas as pd\n",
    "import re\n",
    "from ast import literal_eval"
   ]
  },
  {
   "cell_type": "code",
   "execution_count": 2,
   "metadata": {},
   "outputs": [],
   "source": [
    "# function to seperate paragraphs of text into different rows\n",
    "def per_section(it, is_delimiter=lambda x: x.isspace()):\n",
    "    ret = []\n",
    "    for line in it:\n",
    "        if is_delimiter(line):\n",
    "            if ret:\n",
    "                yield ''.join(ret)\n",
    "                ret = []\n",
    "        else:\n",
    "            ret.append(line.rstrip())\n",
    "    if ret:\n",
    "        yield ''.join(ret)\n",
    "\n",
    "with open(\"doc.txt\") as f:\n",
    "    s = list(per_section(f))\n",
    "    df1 = pd.DataFrame({'data':s})\n",
    "    df1.head()"
   ]
  },
  {
   "cell_type": "code",
   "execution_count": 3,
   "metadata": {},
   "outputs": [
    {
     "data": {
      "text/plain": [
       "3        AAFIA SIDDIQUE BRIGADE (a.k.a. JAMAAT-E-AHRAR;...\n",
       "4        ABDULASATTAR (a.k.a. BARAKZAI, Haji Abdul Satt...\n",
       "5        ABDULLAH, Abdullah Ahmed (a.k.a. AL-MASRI, Abu...\n",
       "6        ABDUREHMAN, Ahmed Mohammed (a.k.a. AHMED, Ahme...\n",
       "7        ABID ALI KHAN TRANSNATIONAL CRIMINAL ORGANIZAT...\n",
       "                               ...                        \n",
       "28786    \"ZHENG, Gordon\" (a.k.a. ZHENG, Fujing; a.k.a. ...\n",
       "28787    \"ZIO\" (a.k.a. ZAGARIA, Michele; a.k.a. \"CAPAST...\n",
       "28788    \"ZUBEYR, Abu\" (a.k.a. ABU ZUBEYR, Muktar Abdir...\n",
       "28789    \"ZUKIPLI\" (a.k.a. BIN MARZUKI, Zulkifli; a.k.a...\n",
       "28790    \"ZULKIFLI\" (a.k.a. BIN MARZUKI, Zulkifli; a.k....\n",
       "Name: data, Length: 28788, dtype: object"
      ]
     },
     "execution_count": 3,
     "metadata": {},
     "output_type": "execute_result"
    }
   ],
   "source": [
    "# converting dataframe to extract features\n",
    "df1 = df1.iloc[3:]\n",
    "# df1 = df1['data'].drop_duplicates()\n",
    "# df1 = df1.to_frame()\n",
    "df1['data'].astype(str)"
   ]
  },
  {
   "cell_type": "code",
   "execution_count": 27,
   "metadata": {},
   "outputs": [],
   "source": [
    "# import re\n",
    "# def extract_name(string):\n",
    "#     name = re.findall(r'^[^\\(]+', str(string))[0]\n",
    "#     string = string.replace(name, '')\n",
    "#     return name\n",
    "\n",
    "# def extract_alias(string):\n",
    "#     aliases_list = re.findall(r'\\(.*?\\)', string)\n",
    "#     alias = ''\n",
    "#     for items in aliases_list:\n",
    "#         actual_alias = re.findall(r'\\(a.k.a', items) \n",
    "#         if len(actual_alias)==1:\n",
    "#             alias = items\n",
    "# #     string2 = string2.replace(alias, '')\n",
    "#     return alias\n",
    "\n",
    "# def extract_dob(string):\n",
    "#     dob = re.findall(r'DOB.*?\\;', string)\n",
    "#     return dob\n",
    "\n",
    "# def extract_pob(string):\n",
    "#     pob = re.findall(r'POB.*?\\;', string)\n",
    "#     return pob\n",
    "\n",
    "# def extract_tags(string):\n",
    "#     tags = re.findall(r'\\[.*?\\]', string)\n",
    "#     return tags\n",
    "\n",
    "\n",
    "# df1['name'] = df1['data'].apply(lambda x: extract_name(x))\n",
    "# df1['alias'] = df1['data'].apply(lambda x: extract_alias(x))\n",
    "# df1['DOB'] = df1['data'].apply(lambda x: extract_dob(x))\n",
    "# df1['POB'] = df1['data'].apply(lambda x: extract_pob(x))\n",
    "# df1['tags'] = df1['data'].apply(lambda x: extract_tags(x))\n",
    "# string2 = df1.iloc[122]['data']\n",
    "# print(string2)\n",
    "\n"
   ]
  },
  {
   "cell_type": "code",
   "execution_count": 28,
   "metadata": {},
   "outputs": [],
   "source": [
    "# def extract_name(string):\n",
    "#     name = re.findall(r'^[^\\(]+', str(string))[0]\n",
    "#     string = string.replace(name, '')\n",
    "#     return name, string\n",
    "\n",
    "# df1['name'], df1['data1'] = zip(*df1['data'].map(extract_name))\n",
    "\n",
    "# linked = ''\n",
    "# linked_list = re.findall(r'\\(.*?\\)', str(string2))\n",
    "# for items in linked_list:\n",
    "#     actual_links = re.findall(r'\\(Linked', items) \n",
    "#     if len(actual_links)==1:\n",
    "#         linked += items\n",
    "# string2 = string2.replace(linked, '')           \n",
    "# print(linked)"
   ]
  },
  {
   "cell_type": "code",
   "execution_count": 4,
   "metadata": {},
   "outputs": [],
   "source": [
    "# getting the name, alias name, DOB, POB and tags\n",
    "def extract_features(string2):\n",
    "    #finding name and removing it from string \n",
    "    name = re.findall(r'^[^\\(|;]+', string2)[0]\n",
    "    string2 = string2.replace(name, '')\n",
    "    #finding all the aliases\n",
    "    aliases_list = re.findall(r'\\(.*?\\)', string2)\n",
    "    alias = ''\n",
    "    for items in aliases_list:\n",
    "        actual_alias = re.findall(r'\\(a.k.a', items) \n",
    "        if len(actual_alias)==1:\n",
    "            alias = items\n",
    "    string2 = string2.replace(alias, '')\n",
    "    #finding DOB \n",
    "    DOB = re.findall(r'DOB.*?\\;', string2)\n",
    "    string2 = string2.replace(';'.join(DOB), '')\n",
    "    if len(DOB)==0:\n",
    "        DOB=''\n",
    "    #finding POB\n",
    "    POB = re.findall(r'POB.*?\\;', string2)\n",
    "    string2 = string2.replace(';'.join(POB), '')\n",
    "    if len(POB)==0:\n",
    "        POB=''\n",
    "    #finding program\n",
    "    tags = re.findall(r'\\[.*?\\]', string2)\n",
    "    string2 = string2.replace(';'.join(tags), '')\n",
    "    #organisation links\n",
    "    linked = ''\n",
    "    linked_list = re.findall(r'\\(.*?\\)', str(string2))\n",
    "    for items in linked_list:\n",
    "        actual_links = re.findall(r'\\(Linked', items) \n",
    "        if len(actual_links)==1:\n",
    "            linked += items\n",
    "    string2 = string2.replace(linked, '')\n",
    "    #type\n",
    "    type_ = re.findall(r'\\(individual?\\)', string2)\n",
    "    string2 = string2.replace(str(type_), '')\n",
    "    if len(type_)==0:\n",
    "        type_=''\n",
    "    else: \n",
    "        type_= 'individual'\n",
    "    #nationality\n",
    "    nationality = re.findall(r'nationality.*?\\;', string2)\n",
    "    string2 = string2.replace(';'.join(nationality), '')\n",
    "    if len(nationality)==0:\n",
    "        nationality = ''  \n",
    "    #address \n",
    "    address = string2.split(';')\n",
    "    #list \n",
    "    list_ = 'SDN'\n",
    "    return name, alias, DOB, POB, tags, address, linked, type_, list_, nationality"
   ]
  },
  {
   "cell_type": "code",
   "execution_count": 5,
   "metadata": {},
   "outputs": [
    {
     "name": "stderr",
     "output_type": "stream",
     "text": [
      "C:\\Users\\Dell\\anaconda3\\lib\\site-packages\\numpy\\core\\_asarray.py:83: VisibleDeprecationWarning: Creating an ndarray from ragged nested sequences (which is a list-or-tuple of lists-or-tuples-or ndarrays with different lengths or shapes) is deprecated. If you meant to do this, you must specify 'dtype=object' when creating the ndarray\n",
      "  return array(a, dtype, copy=False, order=order)\n"
     ]
    }
   ],
   "source": [
    "df1['name'], df1['alias'], df1['DOB'], df1['POB'], df1['program'], df1['address'], df1['linked orgs'], df1['type'], df1['list'], df1['nationality'] = zip(*df1['data'].map(extract_features))"
   ]
  },
  {
   "cell_type": "code",
   "execution_count": 52,
   "metadata": {},
   "outputs": [
    {
     "data": {
      "text/plain": [
       "count     28788\n",
       "unique      230\n",
       "top            \n",
       "freq      22375\n",
       "Name: nationality, dtype: object"
      ]
     },
     "execution_count": 52,
     "metadata": {},
     "output_type": "execute_result"
    }
   ],
   "source": [
    "df1.nationality.describe()"
   ]
  },
  {
   "cell_type": "code",
   "execution_count": 14,
   "metadata": {},
   "outputs": [
    {
     "name": "stderr",
     "output_type": "stream",
     "text": [
      "C:\\Users\\Dell\\anaconda3\\lib\\site-packages\\pandas\\core\\indexing.py:1783: SettingWithCopyWarning: \n",
      "A value is trying to be set on a copy of a slice from a DataFrame.\n",
      "Try using .loc[row_indexer,col_indexer] = value instead\n",
      "\n",
      "See the caveats in the documentation: https://pandas.pydata.org/pandas-docs/stable/user_guide/indexing.html#returning-a-view-versus-a-copy\n",
      "  self.obj[item_labels[indexer[info_axis]]] = value\n"
     ]
    }
   ],
   "source": [
    "# alias = re.findall(r'\\(.*?\\)', string)[0]\n",
    "# new_str = string.replace(alias, '')\n",
    "df1.loc[:, 'list'] = 'SDN'"
   ]
  },
  {
   "cell_type": "code",
   "execution_count": 39,
   "metadata": {},
   "outputs": [],
   "source": [
    "# name = re.findall(r'[A-Z].*?\\,|\\( ', new_str)[0]\n",
    "# new_str = new_str.replace(name, '')\n",
    "\n",
    "\n",
    "df1 = df1.drop('data', 1)\n",
    "df1.to_csv('terrorist.csv', index=False)"
   ]
  },
  {
   "cell_type": "code",
   "execution_count": 221,
   "metadata": {},
   "outputs": [],
   "source": [
    "df1['name'] = df1.apply(lambda row : re.findall(r'^[^\\(]+', str(row))[0])"
   ]
  },
  {
   "cell_type": "code",
   "execution_count": 11,
   "metadata": {},
   "outputs": [
    {
     "data": {
      "text/plain": [
       "array(['individual', ''], dtype=object)"
      ]
     },
     "execution_count": 11,
     "metadata": {},
     "output_type": "execute_result"
    }
   ],
   "source": [
    "df1['type'].unique()"
   ]
  },
  {
   "cell_type": "code",
   "execution_count": 6,
   "metadata": {},
   "outputs": [
    {
     "data": {
      "text/html": [
       "<div>\n",
       "<style scoped>\n",
       "    .dataframe tbody tr th:only-of-type {\n",
       "        vertical-align: middle;\n",
       "    }\n",
       "\n",
       "    .dataframe tbody tr th {\n",
       "        vertical-align: top;\n",
       "    }\n",
       "\n",
       "    .dataframe thead th {\n",
       "        text-align: right;\n",
       "    }\n",
       "</style>\n",
       "<table border=\"1\" class=\"dataframe\">\n",
       "  <thead>\n",
       "    <tr style=\"text-align: right;\">\n",
       "      <th></th>\n",
       "      <th>data</th>\n",
       "      <th>name</th>\n",
       "      <th>alias</th>\n",
       "      <th>DOB</th>\n",
       "      <th>POB</th>\n",
       "      <th>program</th>\n",
       "      <th>address</th>\n",
       "      <th>linked orgs</th>\n",
       "      <th>type</th>\n",
       "      <th>list</th>\n",
       "      <th>nationality</th>\n",
       "    </tr>\n",
       "  </thead>\n",
       "  <tbody>\n",
       "    <tr>\n",
       "      <th>3</th>\n",
       "      <td>AAFIA SIDDIQUE BRIGADE (a.k.a. JAMAAT-E-AHRAR;...</td>\n",
       "      <td>AAFIA SIDDIQUE BRIGADE</td>\n",
       "      <td>(a.k.a. JAMAAT-E-AHRAR; a.k.a. JAMAATUL AHRAR;...</td>\n",
       "      <td></td>\n",
       "      <td></td>\n",
       "      <td>[[SDGT]]</td>\n",
       "      <td>[, Afghanistan,  Mohmand Tribal Agency, Pakist...</td>\n",
       "      <td></td>\n",
       "      <td></td>\n",
       "      <td>SDN</td>\n",
       "      <td></td>\n",
       "    </tr>\n",
       "    <tr>\n",
       "      <th>4</th>\n",
       "      <td>ABDULASATTAR (a.k.a. BARAKZAI, Haji Abdul Satt...</td>\n",
       "      <td>ABDULASATTAR</td>\n",
       "      <td>(a.k.a. BARAKZAI, Haji Abdul Sattar; a.k.a. BA...</td>\n",
       "      <td>[DOB 1964;]</td>\n",
       "      <td>[POB Mirmandaw Village, Nahr-e Saraj District,...</td>\n",
       "      <td>[[SDGT]]</td>\n",
       "      <td>[, KachrayRoad, Pashtunabad, Quetta, Balochist...</td>\n",
       "      <td>(Linked To: HAJI KHAIRULLAH HAJI SATTAR MONEYE...</td>\n",
       "      <td>individual</td>\n",
       "      <td>SDN</td>\n",
       "      <td></td>\n",
       "    </tr>\n",
       "    <tr>\n",
       "      <th>5</th>\n",
       "      <td>ABDULLAH, Abdullah Ahmed (a.k.a. AL-MASRI, Abu...</td>\n",
       "      <td>ABDULLAH, Abdullah Ahmed</td>\n",
       "      <td>(a.k.a. AL-MASRI, Abu Mohamed; a.k.a. \"ABU MAR...</td>\n",
       "      <td>[DOB 1963;]</td>\n",
       "      <td>[POB Egypt;]</td>\n",
       "      <td>[[SDGT]]</td>\n",
       "      <td>[, Afghanistan,    citizen Egypt (individual).]</td>\n",
       "      <td></td>\n",
       "      <td>individual</td>\n",
       "      <td>SDN</td>\n",
       "      <td></td>\n",
       "    </tr>\n",
       "    <tr>\n",
       "      <th>6</th>\n",
       "      <td>ABDUREHMAN, Ahmed Mohammed (a.k.a. AHMED, Ahme...</td>\n",
       "      <td>ABDUREHMAN, Ahmed Mohammed</td>\n",
       "      <td>(a.k.a. AHMED, Ahmed; a.k.a. ALI, Ahmed Mohamm...</td>\n",
       "      <td>[DOB 1965;]</td>\n",
       "      <td>[POB Egypt;]</td>\n",
       "      <td>[[SDGT]]</td>\n",
       "      <td>[, Afghanistan,   citizen Egypt (individual) .]</td>\n",
       "      <td></td>\n",
       "      <td>individual</td>\n",
       "      <td>SDN</td>\n",
       "      <td></td>\n",
       "    </tr>\n",
       "    <tr>\n",
       "      <th>7</th>\n",
       "      <td>ABID ALI KHAN TRANSNATIONAL CRIMINAL ORGANIZAT...</td>\n",
       "      <td>ABID ALI KHAN TRANSNATIONAL CRIMINAL ORGANIZAT...</td>\n",
       "      <td></td>\n",
       "      <td></td>\n",
       "      <td></td>\n",
       "      <td>[[TCO]]</td>\n",
       "      <td>[,  Afghanistan,  UnitedArab Emirates .]</td>\n",
       "      <td></td>\n",
       "      <td></td>\n",
       "      <td>SDN</td>\n",
       "      <td></td>\n",
       "    </tr>\n",
       "  </tbody>\n",
       "</table>\n",
       "</div>"
      ],
      "text/plain": [
       "                                                data  \\\n",
       "3  AAFIA SIDDIQUE BRIGADE (a.k.a. JAMAAT-E-AHRAR;...   \n",
       "4  ABDULASATTAR (a.k.a. BARAKZAI, Haji Abdul Satt...   \n",
       "5  ABDULLAH, Abdullah Ahmed (a.k.a. AL-MASRI, Abu...   \n",
       "6  ABDUREHMAN, Ahmed Mohammed (a.k.a. AHMED, Ahme...   \n",
       "7  ABID ALI KHAN TRANSNATIONAL CRIMINAL ORGANIZAT...   \n",
       "\n",
       "                                                name  \\\n",
       "3                            AAFIA SIDDIQUE BRIGADE    \n",
       "4                                      ABDULASATTAR    \n",
       "5                          ABDULLAH, Abdullah Ahmed    \n",
       "6                        ABDUREHMAN, Ahmed Mohammed    \n",
       "7  ABID ALI KHAN TRANSNATIONAL CRIMINAL ORGANIZAT...   \n",
       "\n",
       "                                               alias          DOB  \\\n",
       "3  (a.k.a. JAMAAT-E-AHRAR; a.k.a. JAMAATUL AHRAR;...                \n",
       "4  (a.k.a. BARAKZAI, Haji Abdul Sattar; a.k.a. BA...  [DOB 1964;]   \n",
       "5  (a.k.a. AL-MASRI, Abu Mohamed; a.k.a. \"ABU MAR...  [DOB 1963;]   \n",
       "6  (a.k.a. AHMED, Ahmed; a.k.a. ALI, Ahmed Mohamm...  [DOB 1965;]   \n",
       "7                                                                   \n",
       "\n",
       "                                                 POB   program  \\\n",
       "3                                                     [[SDGT]]   \n",
       "4  [POB Mirmandaw Village, Nahr-e Saraj District,...  [[SDGT]]   \n",
       "5                                       [POB Egypt;]  [[SDGT]]   \n",
       "6                                       [POB Egypt;]  [[SDGT]]   \n",
       "7                                                      [[TCO]]   \n",
       "\n",
       "                                             address  \\\n",
       "3  [, Afghanistan,  Mohmand Tribal Agency, Pakist...   \n",
       "4  [, KachrayRoad, Pashtunabad, Quetta, Balochist...   \n",
       "5    [, Afghanistan,    citizen Egypt (individual).]   \n",
       "6    [, Afghanistan,   citizen Egypt (individual) .]   \n",
       "7           [,  Afghanistan,  UnitedArab Emirates .]   \n",
       "\n",
       "                                         linked orgs        type list  \\\n",
       "3                                                                 SDN   \n",
       "4  (Linked To: HAJI KHAIRULLAH HAJI SATTAR MONEYE...  individual  SDN   \n",
       "5                                                     individual  SDN   \n",
       "6                                                     individual  SDN   \n",
       "7                                                                 SDN   \n",
       "\n",
       "  nationality  \n",
       "3              \n",
       "4              \n",
       "5              \n",
       "6              \n",
       "7              "
      ]
     },
     "execution_count": 6,
     "metadata": {},
     "output_type": "execute_result"
    }
   ],
   "source": [
    "df1.head()"
   ]
  },
  {
   "cell_type": "code",
   "execution_count": null,
   "metadata": {},
   "outputs": [],
   "source": []
  }
 ],
 "metadata": {
  "kernelspec": {
   "display_name": "Python 3",
   "language": "python",
   "name": "python3"
  },
  "language_info": {
   "codemirror_mode": {
    "name": "ipython",
    "version": 3
   },
   "file_extension": ".py",
   "mimetype": "text/x-python",
   "name": "python",
   "nbconvert_exporter": "python",
   "pygments_lexer": "ipython3",
   "version": "3.8.5"
  }
 },
 "nbformat": 4,
 "nbformat_minor": 4
}
