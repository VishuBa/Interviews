{
 "cells": [
  {
   "cell_type": "code",
   "execution_count": 1,
   "metadata": {},
   "outputs": [],
   "source": [
    "import pandas as pd\n",
    "import datetime as datetime"
   ]
  },
  {
   "cell_type": "code",
   "execution_count": 2,
   "metadata": {},
   "outputs": [],
   "source": [
    "bookings = pd.read_csv('booking_data.csv').drop(['Unnamed: 0'], axis = 1)\n",
    "signup_data = pd.read_csv('signup_data.csv').drop(['Unnamed: 0'], axis = 1)"
   ]
  },
  {
   "cell_type": "code",
   "execution_count": 3,
   "metadata": {},
   "outputs": [],
   "source": [
    "recent_date = '03/08/2022'\n",
    "days = [14,30,60,90]\n",
    "null_value = 0"
   ]
  },
  {
   "cell_type": "markdown",
   "metadata": {},
   "source": [
    "##### Required Columns\n",
    "- user_id\n",
    "- user_type\n",
    "- Signup date\n",
    "- first ride date\n",
    "- last ride date\n",
    "- total rides so far\n",
    "- total rides in last 90 days\n",
    "- total rides in first 30 days\n",
    "- total rides in second 30 days\n",
    "- total rides in third 30 days\n"
   ]
  },
  {
   "cell_type": "code",
   "execution_count": 6,
   "metadata": {},
   "outputs": [],
   "source": [
    "df = bookings.merge(signup_data, left_on='user_id', right_on='user_id')"
   ]
  },
  {
   "cell_type": "code",
   "execution_count": 8,
   "metadata": {},
   "outputs": [],
   "source": [
    "completed_bookings = df.loc[df.status == 'completed'].copy()\n",
    "rides_df = completed_bookings[['user_id', 'booking_created_on']].groupby('user_id').agg(['min', 'max', 'count'])\n",
    "columns = ['first_ride_date', 'last_ride_date', 'Total_rides']\n",
    "rides_df.columns = columns\n",
    "result = pd.merge(signup_data,rides_df, how = 'left', on=\"user_id\")\n",
    "for col in columns:\n",
    "    result[col] = result[col].fillna(null_value)"
   ]
  },
  {
   "cell_type": "code",
   "execution_count": 9,
   "metadata": {},
   "outputs": [
    {
     "data": {
      "text/html": [
       "<div>\n",
       "<style scoped>\n",
       "    .dataframe tbody tr th:only-of-type {\n",
       "        vertical-align: middle;\n",
       "    }\n",
       "\n",
       "    .dataframe tbody tr th {\n",
       "        vertical-align: top;\n",
       "    }\n",
       "\n",
       "    .dataframe thead th {\n",
       "        text-align: right;\n",
       "    }\n",
       "</style>\n",
       "<table border=\"1\" class=\"dataframe\">\n",
       "  <thead>\n",
       "    <tr style=\"text-align: right;\">\n",
       "      <th></th>\n",
       "      <th>user_id</th>\n",
       "      <th>signup_time_stamp</th>\n",
       "      <th>first_ride_date</th>\n",
       "      <th>last_ride_date</th>\n",
       "      <th>Total_rides</th>\n",
       "    </tr>\n",
       "  </thead>\n",
       "  <tbody>\n",
       "    <tr>\n",
       "      <th>0</th>\n",
       "      <td>3574034</td>\n",
       "      <td>2020-01-23 21:28:09</td>\n",
       "      <td>2021-09-01 00:07:07.344</td>\n",
       "      <td>2021-09-29 20:50:13.883</td>\n",
       "      <td>9.0</td>\n",
       "    </tr>\n",
       "    <tr>\n",
       "      <th>1</th>\n",
       "      <td>1086382</td>\n",
       "      <td>2019-06-07 21:58:37</td>\n",
       "      <td>2021-09-01 00:07:17.483</td>\n",
       "      <td>2021-09-02 21:02:59.180</td>\n",
       "      <td>3.0</td>\n",
       "    </tr>\n",
       "    <tr>\n",
       "      <th>2</th>\n",
       "      <td>859987</td>\n",
       "      <td>2019-04-21 12:08:48</td>\n",
       "      <td>2021-09-01 00:08:09.544</td>\n",
       "      <td>2022-02-11 00:13:12.439</td>\n",
       "      <td>9.0</td>\n",
       "    </tr>\n",
       "    <tr>\n",
       "      <th>3</th>\n",
       "      <td>4896659</td>\n",
       "      <td>2021-01-12 14:01:22</td>\n",
       "      <td>2021-09-01 00:08:37.778</td>\n",
       "      <td>2022-03-09 11:30:03.527</td>\n",
       "      <td>75.0</td>\n",
       "    </tr>\n",
       "    <tr>\n",
       "      <th>4</th>\n",
       "      <td>5239248</td>\n",
       "      <td>2021-08-22 22:32:44</td>\n",
       "      <td>2021-09-01 10:26:10.552</td>\n",
       "      <td>2021-09-30 17:02:01.858</td>\n",
       "      <td>50.0</td>\n",
       "    </tr>\n",
       "  </tbody>\n",
       "</table>\n",
       "</div>"
      ],
      "text/plain": [
       "   user_id    signup_time_stamp          first_ride_date  \\\n",
       "0  3574034  2020-01-23 21:28:09  2021-09-01 00:07:07.344   \n",
       "1  1086382  2019-06-07 21:58:37  2021-09-01 00:07:17.483   \n",
       "2   859987  2019-04-21 12:08:48  2021-09-01 00:08:09.544   \n",
       "3  4896659  2021-01-12 14:01:22  2021-09-01 00:08:37.778   \n",
       "4  5239248  2021-08-22 22:32:44  2021-09-01 10:26:10.552   \n",
       "\n",
       "            last_ride_date  Total_rides  \n",
       "0  2021-09-29 20:50:13.883          9.0  \n",
       "1  2021-09-02 21:02:59.180          3.0  \n",
       "2  2022-02-11 00:13:12.439          9.0  \n",
       "3  2022-03-09 11:30:03.527         75.0  \n",
       "4  2021-09-30 17:02:01.858         50.0  "
      ]
     },
     "execution_count": 9,
     "metadata": {},
     "output_type": "execute_result"
    }
   ],
   "source": [
    "result.head()"
   ]
  },
  {
   "cell_type": "code",
   "execution_count": 10,
   "metadata": {},
   "outputs": [],
   "source": [
    "\n",
    "#getting ride details for all the days\n",
    "completed_bookings[\"booking_created_on\"] =  pd.to_datetime(completed_bookings[\"booking_created_on\"], format='%Y-%m-%d %H:%M:%S.%f')\n",
    "for x in days:\n",
    "    temp_df = completed_bookings[completed_bookings[\"booking_created_on\"] >= (pd.to_datetime(recent_date) - pd.Timedelta(days=x))]\n",
    "    temp_df = temp_df.groupby('user_id')['status'].size().reset_index(name=f'ride_in_last_{x}_days')\n",
    "    result = pd.merge(result ,temp_df, how = 'left', on=\"user_id\")\n",
    "    result[f'ride_in_last_{x}_days'] = result[f'ride_in_last_{x}_days'].fillna(null_value)\n"
   ]
  },
  {
   "cell_type": "code",
   "execution_count": 11,
   "metadata": {},
   "outputs": [
    {
     "data": {
      "text/html": [
       "<div>\n",
       "<style scoped>\n",
       "    .dataframe tbody tr th:only-of-type {\n",
       "        vertical-align: middle;\n",
       "    }\n",
       "\n",
       "    .dataframe tbody tr th {\n",
       "        vertical-align: top;\n",
       "    }\n",
       "\n",
       "    .dataframe thead th {\n",
       "        text-align: right;\n",
       "    }\n",
       "</style>\n",
       "<table border=\"1\" class=\"dataframe\">\n",
       "  <thead>\n",
       "    <tr style=\"text-align: right;\">\n",
       "      <th></th>\n",
       "      <th>user_id</th>\n",
       "      <th>signup_time_stamp</th>\n",
       "      <th>first_ride_date</th>\n",
       "      <th>last_ride_date</th>\n",
       "      <th>Total_rides</th>\n",
       "      <th>ride_in_last_14_days</th>\n",
       "      <th>ride_in_last_30_days</th>\n",
       "      <th>ride_in_last_60_days</th>\n",
       "      <th>ride_in_last_90_days</th>\n",
       "    </tr>\n",
       "  </thead>\n",
       "  <tbody>\n",
       "    <tr>\n",
       "      <th>0</th>\n",
       "      <td>3574034</td>\n",
       "      <td>2020-01-23 21:28:09</td>\n",
       "      <td>2021-09-01 00:07:07.344</td>\n",
       "      <td>2021-09-29 20:50:13.883</td>\n",
       "      <td>9.0</td>\n",
       "      <td>0.0</td>\n",
       "      <td>0.0</td>\n",
       "      <td>0.0</td>\n",
       "      <td>0.0</td>\n",
       "    </tr>\n",
       "    <tr>\n",
       "      <th>1</th>\n",
       "      <td>1086382</td>\n",
       "      <td>2019-06-07 21:58:37</td>\n",
       "      <td>2021-09-01 00:07:17.483</td>\n",
       "      <td>2021-09-02 21:02:59.180</td>\n",
       "      <td>3.0</td>\n",
       "      <td>0.0</td>\n",
       "      <td>0.0</td>\n",
       "      <td>0.0</td>\n",
       "      <td>0.0</td>\n",
       "    </tr>\n",
       "    <tr>\n",
       "      <th>2</th>\n",
       "      <td>859987</td>\n",
       "      <td>2019-04-21 12:08:48</td>\n",
       "      <td>2021-09-01 00:08:09.544</td>\n",
       "      <td>2022-02-11 00:13:12.439</td>\n",
       "      <td>9.0</td>\n",
       "      <td>0.0</td>\n",
       "      <td>1.0</td>\n",
       "      <td>2.0</td>\n",
       "      <td>2.0</td>\n",
       "    </tr>\n",
       "    <tr>\n",
       "      <th>3</th>\n",
       "      <td>4896659</td>\n",
       "      <td>2021-01-12 14:01:22</td>\n",
       "      <td>2021-09-01 00:08:37.778</td>\n",
       "      <td>2022-03-09 11:30:03.527</td>\n",
       "      <td>75.0</td>\n",
       "      <td>12.0</td>\n",
       "      <td>25.0</td>\n",
       "      <td>40.0</td>\n",
       "      <td>55.0</td>\n",
       "    </tr>\n",
       "    <tr>\n",
       "      <th>4</th>\n",
       "      <td>5239248</td>\n",
       "      <td>2021-08-22 22:32:44</td>\n",
       "      <td>2021-09-01 10:26:10.552</td>\n",
       "      <td>2021-09-30 17:02:01.858</td>\n",
       "      <td>50.0</td>\n",
       "      <td>0.0</td>\n",
       "      <td>0.0</td>\n",
       "      <td>0.0</td>\n",
       "      <td>0.0</td>\n",
       "    </tr>\n",
       "  </tbody>\n",
       "</table>\n",
       "</div>"
      ],
      "text/plain": [
       "   user_id    signup_time_stamp          first_ride_date  \\\n",
       "0  3574034  2020-01-23 21:28:09  2021-09-01 00:07:07.344   \n",
       "1  1086382  2019-06-07 21:58:37  2021-09-01 00:07:17.483   \n",
       "2   859987  2019-04-21 12:08:48  2021-09-01 00:08:09.544   \n",
       "3  4896659  2021-01-12 14:01:22  2021-09-01 00:08:37.778   \n",
       "4  5239248  2021-08-22 22:32:44  2021-09-01 10:26:10.552   \n",
       "\n",
       "            last_ride_date  Total_rides  ride_in_last_14_days  \\\n",
       "0  2021-09-29 20:50:13.883          9.0                   0.0   \n",
       "1  2021-09-02 21:02:59.180          3.0                   0.0   \n",
       "2  2022-02-11 00:13:12.439          9.0                   0.0   \n",
       "3  2022-03-09 11:30:03.527         75.0                  12.0   \n",
       "4  2021-09-30 17:02:01.858         50.0                   0.0   \n",
       "\n",
       "   ride_in_last_30_days  ride_in_last_60_days  ride_in_last_90_days  \n",
       "0                   0.0                   0.0                   0.0  \n",
       "1                   0.0                   0.0                   0.0  \n",
       "2                   1.0                   2.0                   2.0  \n",
       "3                  25.0                  40.0                  55.0  \n",
       "4                   0.0                   0.0                   0.0  "
      ]
     },
     "execution_count": 11,
     "metadata": {},
     "output_type": "execute_result"
    }
   ],
   "source": [
    "result.head()"
   ]
  },
  {
   "cell_type": "code",
   "execution_count": 12,
   "metadata": {},
   "outputs": [],
   "source": [
    "def diff(a,b):\n",
    "    if  b != 0:\n",
    "        return a-b\n",
    "    else:\n",
    "        return a "
   ]
  },
  {
   "cell_type": "code",
   "execution_count": 13,
   "metadata": {},
   "outputs": [],
   "source": [
    "result['rides_in_second_30_days'] = result.apply(lambda x:  diff(x['ride_in_last_60_days'], x['ride_in_last_30_days']), axis=1)\n",
    "result['rides_in_third_30_days'] = result.apply(lambda x:  diff(x['ride_in_last_90_days'], x['ride_in_last_60_days']), axis=1)\n",
    "result['user_type'] = 'NA'"
   ]
  },
  {
   "cell_type": "code",
   "execution_count": 14,
   "metadata": {},
   "outputs": [],
   "source": [
    "# no ride till now\n",
    "result.loc[result.first_ride_date == 0, 'user_type'] = 'Never took a ride'"
   ]
  },
  {
   "cell_type": "code",
   "execution_count": 15,
   "metadata": {},
   "outputs": [],
   "source": [
    "#took a ride before 90 days and never took a ride since then\n",
    "result.loc[(result.ride_in_last_90_days == 0)\n",
    "            & (result.Total_rides != 0), 'user_type'] = 'Churned'"
   ]
  },
  {
   "cell_type": "code",
   "execution_count": 16,
   "metadata": {},
   "outputs": [],
   "source": [
    "#took his first ride in last 30 days\n",
    "result.loc[(result.ride_in_last_30_days == result.Total_rides)\n",
    "            &(result.Total_rides != 0),'user_type' ] = 'New Rider'"
   ]
  },
  {
   "cell_type": "code",
   "execution_count": 17,
   "metadata": {},
   "outputs": [],
   "source": [
    "# took and a ride in either 2nd or 3rd 30 days\n",
    "result.loc[((result.rides_in_second_30_days != 0)\n",
    "            | (result.rides_in_third_30_days != 0))\n",
    "            & (result.ride_in_last_30_days == 0), 'user_type'] = 'Dormant'"
   ]
  },
  {
   "cell_type": "code",
   "execution_count": 18,
   "metadata": {},
   "outputs": [],
   "source": [
    "# took less than 30 rides in last 90 days but not in last 30 days\n",
    "result.loc[(result.ride_in_last_90_days <= 30)\n",
    "            & (result.ride_in_last_30_days != 0), 'user_type'] = 'Irregular'"
   ]
  },
  {
   "cell_type": "code",
   "execution_count": 19,
   "metadata": {},
   "outputs": [],
   "source": [
    "#took a ride in last 14 days, completed 30-60 rides in 90 days and >10 rides in last 3 months\n",
    "result.loc[(result.ride_in_last_14_days > 0)\n",
    "            & (result.ride_in_last_90_days > 30)\n",
    "            & (result.ride_in_last_90_days <= 60)\n",
    "            & (result.ride_in_last_30_days >=10)\n",
    "            & (result.rides_in_second_30_days >=10)\n",
    "            & (result.rides_in_third_30_days >=10), 'user_type'] = 'Regular'"
   ]
  },
  {
   "cell_type": "code",
   "execution_count": 20,
   "metadata": {},
   "outputs": [],
   "source": [
    "#took a ride in last 14 days, completed >60 rides in 90 days and >20 rides in last 3 months\n",
    "result.loc[(result.ride_in_last_14_days > 0)\n",
    "            & (result.ride_in_last_90_days > 60)\n",
    "            & (result.ride_in_last_30_days >=20)\n",
    "            & (result.rides_in_second_30_days >=20)\n",
    "            & (result.rides_in_third_30_days >=20), 'user_type'] = 'Power'"
   ]
  },
  {
   "cell_type": "code",
   "execution_count": 21,
   "metadata": {},
   "outputs": [
    {
     "data": {
      "text/plain": [
       "Irregular            75002\n",
       "Churned              70218\n",
       "Dormant              55870\n",
       "never_took_a_ride    13640\n",
       "NA                    4250\n",
       "Power                  946\n",
       "Regular                551\n",
       "New Rider              366\n",
       "Name: user_type, dtype: int64"
      ]
     },
     "execution_count": 21,
     "metadata": {},
     "output_type": "execute_result"
    }
   ],
   "source": [
    "result.user_type.value_counts()"
   ]
  },
  {
   "cell_type": "code",
   "execution_count": null,
   "metadata": {},
   "outputs": [],
   "source": []
  }
 ],
 "metadata": {
  "interpreter": {
   "hash": "292c44816d04d42f2ecb0d00c3f510496d676fbc0f7e2b9e1760b8717f6a0e42"
  },
  "kernelspec": {
   "display_name": "Python 3.9.7 ('base')",
   "language": "python",
   "name": "python3"
  },
  "language_info": {
   "codemirror_mode": {
    "name": "ipython",
    "version": 3
   },
   "file_extension": ".py",
   "mimetype": "text/x-python",
   "name": "python",
   "nbconvert_exporter": "python",
   "pygments_lexer": "ipython3",
   "version": "3.9.7"
  },
  "orig_nbformat": 4
 },
 "nbformat": 4,
 "nbformat_minor": 2
}
