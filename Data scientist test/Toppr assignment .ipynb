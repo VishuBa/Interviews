{
 "cells": [
  {
   "cell_type": "code",
   "execution_count": 1,
   "metadata": {},
   "outputs": [
    {
     "data": {
      "text/html": [
       "<div>\n",
       "<style scoped>\n",
       "    .dataframe tbody tr th:only-of-type {\n",
       "        vertical-align: middle;\n",
       "    }\n",
       "\n",
       "    .dataframe tbody tr th {\n",
       "        vertical-align: top;\n",
       "    }\n",
       "\n",
       "    .dataframe thead th {\n",
       "        text-align: right;\n",
       "    }\n",
       "</style>\n",
       "<table border=\"1\" class=\"dataframe\">\n",
       "  <thead>\n",
       "    <tr style=\"text-align: right;\">\n",
       "      <th></th>\n",
       "      <th>session_id</th>\n",
       "      <th>subject_id</th>\n",
       "      <th>tutor_id</th>\n",
       "      <th>tutor_joined_on</th>\n",
       "      <th>exited_on</th>\n",
       "      <th>Month</th>\n",
       "      <th>time_taken</th>\n",
       "    </tr>\n",
       "  </thead>\n",
       "  <tbody>\n",
       "    <tr>\n",
       "      <th>0</th>\n",
       "      <td>58891832</td>\n",
       "      <td>1</td>\n",
       "      <td>25888582</td>\n",
       "      <td>2021-08-24T08:50:59.986</td>\n",
       "      <td>2021-08-24T09:00:38.411</td>\n",
       "      <td>8</td>\n",
       "      <td>0 days 00:09:38.425000</td>\n",
       "    </tr>\n",
       "    <tr>\n",
       "      <th>1</th>\n",
       "      <td>58895182</td>\n",
       "      <td>1</td>\n",
       "      <td>42704098</td>\n",
       "      <td>2021-08-24T11:20:35.380</td>\n",
       "      <td>2021-08-24T11:35:00.323</td>\n",
       "      <td>8</td>\n",
       "      <td>0 days 00:14:24.943000</td>\n",
       "    </tr>\n",
       "    <tr>\n",
       "      <th>2</th>\n",
       "      <td>58894350</td>\n",
       "      <td>3</td>\n",
       "      <td>19300924</td>\n",
       "      <td>2021-08-24T10:46:49.303</td>\n",
       "      <td>2021-08-24T10:52:34.587</td>\n",
       "      <td>8</td>\n",
       "      <td>0 days 00:05:45.284000</td>\n",
       "    </tr>\n",
       "    <tr>\n",
       "      <th>3</th>\n",
       "      <td>58912438</td>\n",
       "      <td>2</td>\n",
       "      <td>25481986</td>\n",
       "      <td>2021-08-25T07:59:47.025</td>\n",
       "      <td>2021-08-25T08:08:21.243</td>\n",
       "      <td>8</td>\n",
       "      <td>0 days 00:08:34.218000</td>\n",
       "    </tr>\n",
       "    <tr>\n",
       "      <th>4</th>\n",
       "      <td>58913020</td>\n",
       "      <td>1</td>\n",
       "      <td>34486126</td>\n",
       "      <td>2021-08-25T08:31:19.618</td>\n",
       "      <td>2021-08-25T08:33:49.924</td>\n",
       "      <td>8</td>\n",
       "      <td>0 days 00:02:30.306000</td>\n",
       "    </tr>\n",
       "  </tbody>\n",
       "</table>\n",
       "</div>"
      ],
      "text/plain": [
       "   session_id  subject_id  tutor_id          tutor_joined_on  \\\n",
       "0    58891832           1  25888582  2021-08-24T08:50:59.986   \n",
       "1    58895182           1  42704098  2021-08-24T11:20:35.380   \n",
       "2    58894350           3  19300924  2021-08-24T10:46:49.303   \n",
       "3    58912438           2  25481986  2021-08-25T07:59:47.025   \n",
       "4    58913020           1  34486126  2021-08-25T08:31:19.618   \n",
       "\n",
       "                 exited_on  Month             time_taken  \n",
       "0  2021-08-24T09:00:38.411      8 0 days 00:09:38.425000  \n",
       "1  2021-08-24T11:35:00.323      8 0 days 00:14:24.943000  \n",
       "2  2021-08-24T10:52:34.587      8 0 days 00:05:45.284000  \n",
       "3  2021-08-25T08:08:21.243      8 0 days 00:08:34.218000  \n",
       "4  2021-08-25T08:33:49.924      8 0 days 00:02:30.306000  "
      ]
     },
     "execution_count": 1,
     "metadata": {},
     "output_type": "execute_result"
    }
   ],
   "source": [
    "import pandas as pd \n",
    "df = pd.read_csv('./Toppr_DS_Assignment_Data.csv')\n",
    "\n",
    "# Adding a new column called 'Month' for analysing data for every month\n",
    "df['Month'] = pd.DatetimeIndex(df['tutor_joined_on']).month\n",
    "# time_taken(Handling time)\n",
    "df['time_taken'] = (pd.DatetimeIndex(df.exited_on)-pd.DatetimeIndex(df.tutor_joined_on))\n",
    "\n",
    "df.head()"
   ]
  },
  {
   "cell_type": "markdown",
   "metadata": {},
   "source": [
    "# Q1 \n",
    "\n"
   ]
  },
  {
   "cell_type": "code",
   "execution_count": 2,
   "metadata": {},
   "outputs": [
    {
     "data": {
      "text/plain": [
       "subject_id  Month\n",
       "1           6       0 days 00:08:36.447387096\n",
       "            7       0 days 00:10:34.418437752\n",
       "            8       0 days 00:10:52.694057395\n",
       "2           6       0 days 00:08:14.629333333\n",
       "            7       0 days 00:09:18.280219489\n",
       "            8       0 days 00:09:57.723672775\n",
       "3           6       0 days 00:11:53.666208333\n",
       "            7       0 days 00:10:22.803859081\n",
       "            8       0 days 00:10:35.908579568\n",
       "4           6       0 days 00:06:07.886941176\n",
       "            7       0 days 00:07:14.106739597\n",
       "            8       0 days 00:07:40.764815341\n",
       "dtype: timedelta64[ns]"
      ]
     },
     "execution_count": 2,
     "metadata": {},
     "output_type": "execute_result"
    }
   ],
   "source": [
    "#total time taken for solving all the problems in a month for a subject\n",
    "HT = df.groupby(['subject_id', 'Month'])['time_taken'].sum()\n",
    "#number of doubts in a month for a subject\n",
    "num_doubts = df.groupby(['subject_id', 'Month']).size()\n",
    "# average handling time is total_time/num_of_doubts\n",
    "AHT = HT/num_doubts\n",
    "AHT"
   ]
  },
  {
   "cell_type": "markdown",
   "metadata": {},
   "source": [
    "# Q2"
   ]
  },
  {
   "cell_type": "code",
   "execution_count": 3,
   "metadata": {},
   "outputs": [
    {
     "data": {
      "text/html": [
       "<div>\n",
       "<style scoped>\n",
       "    .dataframe tbody tr th:only-of-type {\n",
       "        vertical-align: middle;\n",
       "    }\n",
       "\n",
       "    .dataframe tbody tr th {\n",
       "        vertical-align: top;\n",
       "    }\n",
       "\n",
       "    .dataframe thead th {\n",
       "        text-align: right;\n",
       "    }\n",
       "</style>\n",
       "<table border=\"1\" class=\"dataframe\">\n",
       "  <thead>\n",
       "    <tr style=\"text-align: right;\">\n",
       "      <th></th>\n",
       "      <th></th>\n",
       "      <th>num of doubts per session</th>\n",
       "    </tr>\n",
       "    <tr>\n",
       "      <th>session_id</th>\n",
       "      <th>tutor_id</th>\n",
       "      <th></th>\n",
       "    </tr>\n",
       "  </thead>\n",
       "  <tbody>\n",
       "    <tr>\n",
       "      <th>57457766</th>\n",
       "      <th>39251512</th>\n",
       "      <td>1</td>\n",
       "    </tr>\n",
       "    <tr>\n",
       "      <th>57457774</th>\n",
       "      <th>19857386</th>\n",
       "      <td>1</td>\n",
       "    </tr>\n",
       "    <tr>\n",
       "      <th>57457778</th>\n",
       "      <th>22037200</th>\n",
       "      <td>1</td>\n",
       "    </tr>\n",
       "    <tr>\n",
       "      <th>57457782</th>\n",
       "      <th>27139594</th>\n",
       "      <td>1</td>\n",
       "    </tr>\n",
       "    <tr>\n",
       "      <th>57457788</th>\n",
       "      <th>10466374</th>\n",
       "      <td>1</td>\n",
       "    </tr>\n",
       "    <tr>\n",
       "      <th>...</th>\n",
       "      <th>...</th>\n",
       "      <td>...</td>\n",
       "    </tr>\n",
       "    <tr>\n",
       "      <th>59058422</th>\n",
       "      <th>6622508</th>\n",
       "      <td>1</td>\n",
       "    </tr>\n",
       "    <tr>\n",
       "      <th>59058428</th>\n",
       "      <th>1724346</th>\n",
       "      <td>1</td>\n",
       "    </tr>\n",
       "    <tr>\n",
       "      <th>59058430</th>\n",
       "      <th>17843810</th>\n",
       "      <td>1</td>\n",
       "    </tr>\n",
       "    <tr>\n",
       "      <th>59058434</th>\n",
       "      <th>18840614</th>\n",
       "      <td>1</td>\n",
       "    </tr>\n",
       "    <tr>\n",
       "      <th>59058436</th>\n",
       "      <th>6622508</th>\n",
       "      <td>1</td>\n",
       "    </tr>\n",
       "  </tbody>\n",
       "</table>\n",
       "<p>448816 rows × 1 columns</p>\n",
       "</div>"
      ],
      "text/plain": [
       "                     num of doubts per session\n",
       "session_id tutor_id                           \n",
       "57457766   39251512                          1\n",
       "57457774   19857386                          1\n",
       "57457778   22037200                          1\n",
       "57457782   27139594                          1\n",
       "57457788   10466374                          1\n",
       "...                                        ...\n",
       "59058422   6622508                           1\n",
       "59058428   1724346                           1\n",
       "59058430   17843810                          1\n",
       "59058434   18840614                          1\n",
       "59058436   6622508                           1\n",
       "\n",
       "[448816 rows x 1 columns]"
      ]
     },
     "execution_count": 3,
     "metadata": {},
     "output_type": "execute_result"
    }
   ],
   "source": [
    "# session id joined by tutors \n",
    "tutor = df.groupby( ['session_id', 'tutor_id']).size()\n",
    "tutor_df= pd.DataFrame(tutor, columns=['num of doubts per session'])\n",
    "tutor_df"
   ]
  },
  {
   "cell_type": "markdown",
   "metadata": {},
   "source": [
    "# Q3"
   ]
  },
  {
   "cell_type": "code",
   "execution_count": 6,
   "metadata": {},
   "outputs": [],
   "source": [
    "# total count for different num of doubt per session\n",
    "df2 = pd.DataFrame(tutor_df.value_counts())"
   ]
  },
  {
   "cell_type": "code",
   "execution_count": 7,
   "metadata": {},
   "outputs": [
    {
     "name": "stderr",
     "output_type": "stream",
     "text": [
      "<ipython-input-7-fe1f7aaec8fb>:2: RuntimeWarning: Degrees of freedom <= 0 for slice\n",
      "  np.cov(df2)\n",
      "C:\\Users\\Dell\\anaconda3\\lib\\site-packages\\numpy\\lib\\function_base.py:2480: RuntimeWarning: divide by zero encountered in true_divide\n",
      "  c *= np.true_divide(1, fact)\n",
      "C:\\Users\\Dell\\anaconda3\\lib\\site-packages\\numpy\\lib\\function_base.py:2480: RuntimeWarning: invalid value encountered in multiply\n",
      "  c *= np.true_divide(1, fact)\n"
     ]
    },
    {
     "data": {
      "text/plain": [
       "array([[nan, nan, nan, nan, nan],\n",
       "       [nan, nan, nan, nan, nan],\n",
       "       [nan, nan, nan, nan, nan],\n",
       "       [nan, nan, nan, nan, nan],\n",
       "       [nan, nan, nan, nan, nan]])"
      ]
     },
     "execution_count": 7,
     "metadata": {},
     "output_type": "execute_result"
    }
   ],
   "source": [
    "import numpy as np\n",
    "np.cov(df2)"
   ]
  },
  {
   "cell_type": "markdown",
   "metadata": {},
   "source": [
    "From the above table we can see that most of the tutors prefer to clarify one doubt per session"
   ]
  },
  {
   "cell_type": "code",
   "execution_count": 9,
   "metadata": {
    "scrolled": true
   },
   "outputs": [
    {
     "data": {
      "text/html": [
       "<div>\n",
       "<style scoped>\n",
       "    .dataframe tbody tr th:only-of-type {\n",
       "        vertical-align: middle;\n",
       "    }\n",
       "\n",
       "    .dataframe tbody tr th {\n",
       "        vertical-align: top;\n",
       "    }\n",
       "\n",
       "    .dataframe thead th {\n",
       "        text-align: right;\n",
       "    }\n",
       "</style>\n",
       "<table border=\"1\" class=\"dataframe\">\n",
       "  <thead>\n",
       "    <tr style=\"text-align: right;\">\n",
       "      <th></th>\n",
       "      <th>session_id</th>\n",
       "      <th>subject_id</th>\n",
       "      <th>tutor_id</th>\n",
       "      <th>tutor_joined_on</th>\n",
       "      <th>exited_on</th>\n",
       "      <th>Month</th>\n",
       "      <th>time_taken</th>\n",
       "      <th>num of doubts per session</th>\n",
       "    </tr>\n",
       "  </thead>\n",
       "  <tbody>\n",
       "    <tr>\n",
       "      <th>0</th>\n",
       "      <td>58891832</td>\n",
       "      <td>1</td>\n",
       "      <td>25888582</td>\n",
       "      <td>2021-08-24T08:50:59.986</td>\n",
       "      <td>2021-08-24T09:00:38.411</td>\n",
       "      <td>8</td>\n",
       "      <td>0 days 00:09:38.425000</td>\n",
       "      <td>1</td>\n",
       "    </tr>\n",
       "    <tr>\n",
       "      <th>1</th>\n",
       "      <td>58895182</td>\n",
       "      <td>1</td>\n",
       "      <td>42704098</td>\n",
       "      <td>2021-08-24T11:20:35.380</td>\n",
       "      <td>2021-08-24T11:35:00.323</td>\n",
       "      <td>8</td>\n",
       "      <td>0 days 00:14:24.943000</td>\n",
       "      <td>1</td>\n",
       "    </tr>\n",
       "    <tr>\n",
       "      <th>2</th>\n",
       "      <td>58894350</td>\n",
       "      <td>3</td>\n",
       "      <td>19300924</td>\n",
       "      <td>2021-08-24T10:46:49.303</td>\n",
       "      <td>2021-08-24T10:52:34.587</td>\n",
       "      <td>8</td>\n",
       "      <td>0 days 00:05:45.284000</td>\n",
       "      <td>1</td>\n",
       "    </tr>\n",
       "    <tr>\n",
       "      <th>3</th>\n",
       "      <td>58912438</td>\n",
       "      <td>2</td>\n",
       "      <td>25481986</td>\n",
       "      <td>2021-08-25T07:59:47.025</td>\n",
       "      <td>2021-08-25T08:08:21.243</td>\n",
       "      <td>8</td>\n",
       "      <td>0 days 00:08:34.218000</td>\n",
       "      <td>1</td>\n",
       "    </tr>\n",
       "    <tr>\n",
       "      <th>4</th>\n",
       "      <td>58913020</td>\n",
       "      <td>1</td>\n",
       "      <td>34486126</td>\n",
       "      <td>2021-08-25T08:31:19.618</td>\n",
       "      <td>2021-08-25T08:33:49.924</td>\n",
       "      <td>8</td>\n",
       "      <td>0 days 00:02:30.306000</td>\n",
       "      <td>1</td>\n",
       "    </tr>\n",
       "  </tbody>\n",
       "</table>\n",
       "</div>"
      ],
      "text/plain": [
       "   session_id  subject_id  tutor_id          tutor_joined_on  \\\n",
       "0    58891832           1  25888582  2021-08-24T08:50:59.986   \n",
       "1    58895182           1  42704098  2021-08-24T11:20:35.380   \n",
       "2    58894350           3  19300924  2021-08-24T10:46:49.303   \n",
       "3    58912438           2  25481986  2021-08-25T07:59:47.025   \n",
       "4    58913020           1  34486126  2021-08-25T08:31:19.618   \n",
       "\n",
       "                 exited_on  Month             time_taken  \\\n",
       "0  2021-08-24T09:00:38.411      8 0 days 00:09:38.425000   \n",
       "1  2021-08-24T11:35:00.323      8 0 days 00:14:24.943000   \n",
       "2  2021-08-24T10:52:34.587      8 0 days 00:05:45.284000   \n",
       "3  2021-08-25T08:08:21.243      8 0 days 00:08:34.218000   \n",
       "4  2021-08-25T08:33:49.924      8 0 days 00:02:30.306000   \n",
       "\n",
       "   num of doubts per session  \n",
       "0                          1  \n",
       "1                          1  \n",
       "2                          1  \n",
       "3                          1  \n",
       "4                          1  "
      ]
     },
     "execution_count": 9,
     "metadata": {},
     "output_type": "execute_result"
    }
   ],
   "source": [
    "# joining both the main table and tutor table for storing complete information in a table\n",
    "sessions = pd.merge(df, tutor_df, on=[\"session_id\", \"tutor_id\"])\n",
    "sessions.head()"
   ]
  },
  {
   "cell_type": "markdown",
   "metadata": {},
   "source": [
    "# Q4"
   ]
  },
  {
   "cell_type": "code",
   "execution_count": 10,
   "metadata": {},
   "outputs": [
    {
     "data": {
      "text/plain": [
       "subject_id  num of doubts per session\n",
       "1           1                            934 days 08:35:39.164000\n",
       "            2                              0 days 07:05:04.283000\n",
       "            3                              0 days 00:26:36.570000\n",
       "            4                                     0 days 00:00:00\n",
       "2           1                            655 days 19:11:08.692000\n",
       "            2                              0 days 01:52:42.373000\n",
       "            3                              0 days 00:02:59.041000\n",
       "            4                              0 days 00:03:47.887000\n",
       "3           1                           1300 days 04:25:34.153000\n",
       "            2                              0 days 12:31:42.287000\n",
       "            3                              0 days 01:08:02.984000\n",
       "            4                              0 days 00:21:32.261000\n",
       "            5                                     0 days 00:00:00\n",
       "4           1                            242 days 01:23:23.785000\n",
       "            2                              0 days 01:20:15.732000\n",
       "            3                              0 days 00:17:35.044000\n",
       "Name: time_taken, dtype: timedelta64[ns]"
      ]
     },
     "execution_count": 10,
     "metadata": {},
     "output_type": "execute_result"
    }
   ],
   "source": [
    "sessions.groupby([\"subject_id\", \"num of doubts per session\"])[\"time_taken\"].sum()"
   ]
  },
  {
   "cell_type": "markdown",
   "metadata": {},
   "source": [
    "you can infer from the above table that some of the tutors when trying to answer 4 or 5 doubts aren't able to complete the problem, so we should allow at max 3 questions to solve per tutor per session"
   ]
  },
  {
   "cell_type": "code",
   "execution_count": 11,
   "metadata": {},
   "outputs": [
    {
     "data": {
      "text/plain": [
       "[['0 days 00:10:03.238527193', 1],\n",
       " ['0 days 00:08:50.223709677', 2],\n",
       " ['0 days 00:10:28.512636363', 3],\n",
       " ['0 days 00:06:20.037000', 4],\n",
       " ['0 days 00:00:00', 5]]"
      ]
     },
     "execution_count": 11,
     "metadata": {},
     "output_type": "execute_result"
    }
   ],
   "source": [
    "total_time_session = list(sessions.groupby('num of doubts per session')['time_taken'].sum() )\n",
    "num_session = list(tutor_df.value_counts())\n",
    "avg_time_session = [[str(total_time_session[i]/num_session[i]), i+1] for i in range(len(num_session))]\n",
    "avg_time_session"
   ]
  },
  {
   "cell_type": "code",
   "execution_count": 14,
   "metadata": {},
   "outputs": [
    {
     "data": {
      "text/plain": [
       "array([[ 1.,  1.,  1.,  1., -1.],\n",
       "       [ 1.,  1.,  1.,  1., -1.],\n",
       "       [ 1.,  1.,  1.,  1., -1.],\n",
       "       [ 1.,  1.,  1.,  1., -1.],\n",
       "       [-1., -1., -1., -1.,  1.]])"
      ]
     },
     "execution_count": 14,
     "metadata": {},
     "output_type": "execute_result"
    }
   ],
   "source": [
    "import numpy as np\n",
    "avg_time = [[10,1], [8,2], [10,3], [6,4], [0,5]]\n",
    "\n",
    "np.corrcoef(avg_time)"
   ]
  },
  {
   "cell_type": "markdown",
   "metadata": {},
   "source": [
    "The table gives us the average time it took for the tutor to solve is alomst similar for the first 3 questions"
   ]
  }
 ],
 "metadata": {
  "kernelspec": {
   "display_name": "Python 3",
   "language": "python",
   "name": "python3"
  },
  "language_info": {
   "codemirror_mode": {
    "name": "ipython",
    "version": 3
   },
   "file_extension": ".py",
   "mimetype": "text/x-python",
   "name": "python",
   "nbconvert_exporter": "python",
   "pygments_lexer": "ipython3",
   "version": "3.8.5"
  }
 },
 "nbformat": 4,
 "nbformat_minor": 4
}
